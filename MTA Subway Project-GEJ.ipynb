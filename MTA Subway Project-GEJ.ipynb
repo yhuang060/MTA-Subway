{
 "cells": [
  {
   "cell_type": "code",
   "execution_count": 422,
   "metadata": {},
   "outputs": [],
   "source": [
    "import pandas as pd"
   ]
  },
  {
   "cell_type": "code",
   "execution_count": 423,
   "metadata": {},
   "outputs": [],
   "source": [
    "#df = pd.concat(map(pd.read_csv, [\"Subway_Data/turnstile_201205.txt\", \"Subway_Data/turnstile_201212.txt\"]))\n",
    "df = pd.read_csv(\"http://web.mta.info/developers/data/nyct/turnstile/turnstile_210102.txt\")"
   ]
  },
  {
   "cell_type": "code",
   "execution_count": 424,
   "metadata": {},
   "outputs": [],
   "source": [
    "#clean column names\n",
    "df.rename(columns={'C/A': 'c_a', 'UNIT': 'unit', 'SCP': 'scp', 'STATION': 'station', 'LINENAME': 'linename', 'DIVISION': 'division', 'DATE': 'date','TIME': 'time', 'DESC': 'desc', 'ENTRIES': 'entries', df.columns[10]: 'exits'}, inplace=True)\n",
    "\n",
    "#keep only subway divisions\n",
    "df = df[(df['division'] == 'BMT') | (df['division'] == 'IND') | (df['division'] == 'IRT')]\n",
    "\n",
    "#Add formatted timestamp column\n",
    "df['timestamp'] = pd.to_datetime(df['date'] + \" \" + df['time'])\n",
    "\n",
    "#add unique turnstile id\n",
    "df['unique_turnstile_id'] = df['c_a'] + df['unit'] + ' ' + df['station'] + ' ' + df['scp']\n",
    "\n",
    "#keep only needed columns\n",
    "df = df.loc[:,['station', 'entries', 'exits', 'timestamp', 'unique_turnstile_id']]\n",
    "\n",
    "#add day of week column\n",
    "df['day_of_week'] = df.timestamp.dt.day_name()\n",
    "\n",
    "df = df.reset_index()"
   ]
  },
  {
   "cell_type": "code",
   "execution_count": 425,
   "metadata": {},
   "outputs": [
    {
     "output_type": "execute_result",
     "data": {
      "text/plain": [
       "         index          station     entries       exits           timestamp  \\\n",
       "0            0            59 ST     7508509     2557569 2020-12-26 03:00:00   \n",
       "1            1            59 ST     7508511     2557581 2020-12-26 07:00:00   \n",
       "2            2            59 ST     7508531     2557636 2020-12-26 11:00:00   \n",
       "3            3            59 ST     7508610     2557667 2020-12-26 15:00:00   \n",
       "4            4            59 ST     7508767     2557689 2020-12-26 19:00:00   \n",
       "...        ...              ...         ...         ...                 ...   \n",
       "195464  208664  EASTCHSTER/DYRE  1559829041  1728236785 2021-01-01 04:00:00   \n",
       "195465  208665  EASTCHSTER/DYRE  1559829038  1728236790 2021-01-01 08:00:00   \n",
       "195466  208666  EASTCHSTER/DYRE  1559829033  1728236794 2021-01-01 12:00:00   \n",
       "195467  208667  EASTCHSTER/DYRE  1559829023  1728236798 2021-01-01 16:00:00   \n",
       "195468  208668  EASTCHSTER/DYRE  1559829018  1728236813 2021-01-01 20:00:00   \n",
       "\n",
       "                      unique_turnstile_id day_of_week  diff_entries  \\\n",
       "0                 A002R051 59 ST 02-00-00    Saturday           NaN   \n",
       "1                 A002R051 59 ST 02-00-00    Saturday           2.0   \n",
       "2                 A002R051 59 ST 02-00-00    Saturday          20.0   \n",
       "3                 A002R051 59 ST 02-00-00    Saturday          79.0   \n",
       "4                 A002R051 59 ST 02-00-00    Saturday         157.0   \n",
       "...                                   ...         ...           ...   \n",
       "195464  R730R431 EASTCHSTER/DYRE 00-00-04      Friday           0.0   \n",
       "195465  R730R431 EASTCHSTER/DYRE 00-00-04      Friday           3.0   \n",
       "195466  R730R431 EASTCHSTER/DYRE 00-00-04      Friday           5.0   \n",
       "195467  R730R431 EASTCHSTER/DYRE 00-00-04      Friday          10.0   \n",
       "195468  R730R431 EASTCHSTER/DYRE 00-00-04      Friday           5.0   \n",
       "\n",
       "        diff_exits  total_traffic  record_index  \n",
       "0              NaN            NaN             0  \n",
       "1             12.0           14.0             1  \n",
       "2             55.0           75.0             2  \n",
       "3             31.0          110.0             3  \n",
       "4             22.0          179.0             4  \n",
       "...            ...            ...           ...  \n",
       "195464         1.0            1.0        195464  \n",
       "195465         5.0            8.0        195465  \n",
       "195466         4.0            9.0        195466  \n",
       "195467         4.0           14.0        195467  \n",
       "195468        15.0           20.0        195468  \n",
       "\n",
       "[195469 rows x 11 columns]"
      ],
      "text/html": "<div>\n<style scoped>\n    .dataframe tbody tr th:only-of-type {\n        vertical-align: middle;\n    }\n\n    .dataframe tbody tr th {\n        vertical-align: top;\n    }\n\n    .dataframe thead th {\n        text-align: right;\n    }\n</style>\n<table border=\"1\" class=\"dataframe\">\n  <thead>\n    <tr style=\"text-align: right;\">\n      <th></th>\n      <th>index</th>\n      <th>station</th>\n      <th>entries</th>\n      <th>exits</th>\n      <th>timestamp</th>\n      <th>unique_turnstile_id</th>\n      <th>day_of_week</th>\n      <th>diff_entries</th>\n      <th>diff_exits</th>\n      <th>total_traffic</th>\n      <th>record_index</th>\n    </tr>\n  </thead>\n  <tbody>\n    <tr>\n      <th>0</th>\n      <td>0</td>\n      <td>59 ST</td>\n      <td>7508509</td>\n      <td>2557569</td>\n      <td>2020-12-26 03:00:00</td>\n      <td>A002R051 59 ST 02-00-00</td>\n      <td>Saturday</td>\n      <td>NaN</td>\n      <td>NaN</td>\n      <td>NaN</td>\n      <td>0</td>\n    </tr>\n    <tr>\n      <th>1</th>\n      <td>1</td>\n      <td>59 ST</td>\n      <td>7508511</td>\n      <td>2557581</td>\n      <td>2020-12-26 07:00:00</td>\n      <td>A002R051 59 ST 02-00-00</td>\n      <td>Saturday</td>\n      <td>2.0</td>\n      <td>12.0</td>\n      <td>14.0</td>\n      <td>1</td>\n    </tr>\n    <tr>\n      <th>2</th>\n      <td>2</td>\n      <td>59 ST</td>\n      <td>7508531</td>\n      <td>2557636</td>\n      <td>2020-12-26 11:00:00</td>\n      <td>A002R051 59 ST 02-00-00</td>\n      <td>Saturday</td>\n      <td>20.0</td>\n      <td>55.0</td>\n      <td>75.0</td>\n      <td>2</td>\n    </tr>\n    <tr>\n      <th>3</th>\n      <td>3</td>\n      <td>59 ST</td>\n      <td>7508610</td>\n      <td>2557667</td>\n      <td>2020-12-26 15:00:00</td>\n      <td>A002R051 59 ST 02-00-00</td>\n      <td>Saturday</td>\n      <td>79.0</td>\n      <td>31.0</td>\n      <td>110.0</td>\n      <td>3</td>\n    </tr>\n    <tr>\n      <th>4</th>\n      <td>4</td>\n      <td>59 ST</td>\n      <td>7508767</td>\n      <td>2557689</td>\n      <td>2020-12-26 19:00:00</td>\n      <td>A002R051 59 ST 02-00-00</td>\n      <td>Saturday</td>\n      <td>157.0</td>\n      <td>22.0</td>\n      <td>179.0</td>\n      <td>4</td>\n    </tr>\n    <tr>\n      <th>...</th>\n      <td>...</td>\n      <td>...</td>\n      <td>...</td>\n      <td>...</td>\n      <td>...</td>\n      <td>...</td>\n      <td>...</td>\n      <td>...</td>\n      <td>...</td>\n      <td>...</td>\n      <td>...</td>\n    </tr>\n    <tr>\n      <th>195464</th>\n      <td>208664</td>\n      <td>EASTCHSTER/DYRE</td>\n      <td>1559829041</td>\n      <td>1728236785</td>\n      <td>2021-01-01 04:00:00</td>\n      <td>R730R431 EASTCHSTER/DYRE 00-00-04</td>\n      <td>Friday</td>\n      <td>0.0</td>\n      <td>1.0</td>\n      <td>1.0</td>\n      <td>195464</td>\n    </tr>\n    <tr>\n      <th>195465</th>\n      <td>208665</td>\n      <td>EASTCHSTER/DYRE</td>\n      <td>1559829038</td>\n      <td>1728236790</td>\n      <td>2021-01-01 08:00:00</td>\n      <td>R730R431 EASTCHSTER/DYRE 00-00-04</td>\n      <td>Friday</td>\n      <td>3.0</td>\n      <td>5.0</td>\n      <td>8.0</td>\n      <td>195465</td>\n    </tr>\n    <tr>\n      <th>195466</th>\n      <td>208666</td>\n      <td>EASTCHSTER/DYRE</td>\n      <td>1559829033</td>\n      <td>1728236794</td>\n      <td>2021-01-01 12:00:00</td>\n      <td>R730R431 EASTCHSTER/DYRE 00-00-04</td>\n      <td>Friday</td>\n      <td>5.0</td>\n      <td>4.0</td>\n      <td>9.0</td>\n      <td>195466</td>\n    </tr>\n    <tr>\n      <th>195467</th>\n      <td>208667</td>\n      <td>EASTCHSTER/DYRE</td>\n      <td>1559829023</td>\n      <td>1728236798</td>\n      <td>2021-01-01 16:00:00</td>\n      <td>R730R431 EASTCHSTER/DYRE 00-00-04</td>\n      <td>Friday</td>\n      <td>10.0</td>\n      <td>4.0</td>\n      <td>14.0</td>\n      <td>195467</td>\n    </tr>\n    <tr>\n      <th>195468</th>\n      <td>208668</td>\n      <td>EASTCHSTER/DYRE</td>\n      <td>1559829018</td>\n      <td>1728236813</td>\n      <td>2021-01-01 20:00:00</td>\n      <td>R730R431 EASTCHSTER/DYRE 00-00-04</td>\n      <td>Friday</td>\n      <td>5.0</td>\n      <td>15.0</td>\n      <td>20.0</td>\n      <td>195468</td>\n    </tr>\n  </tbody>\n</table>\n<p>195469 rows × 11 columns</p>\n</div>"
     },
     "metadata": {},
     "execution_count": 425
    }
   ],
   "source": [
    "#calculate actual volumes for each record (record minus previous record)\n",
    "df['diff_entries'] = abs(df.entries.diff())\n",
    "df['diff_exits'] = abs(df.exits.diff())\n",
    "df['total_traffic'] = df.diff_entries + df.diff_exits\n",
    "\n",
    "#record index in new column (needed to identify first instance of turnstile data)\n",
    "df['record_index'] = df.index\n",
    "df"
   ]
  },
  {
   "cell_type": "code",
   "execution_count": 426,
   "metadata": {},
   "outputs": [
    {
     "output_type": "execute_result",
     "data": {
      "text/plain": [
       "4613"
      ]
     },
     "metadata": {},
     "execution_count": 426
    }
   ],
   "source": [
    "df.unique_turnstile_id.nunique()"
   ]
  },
  {
   "cell_type": "code",
   "execution_count": 427,
   "metadata": {},
   "outputs": [
    {
     "output_type": "execute_result",
     "data": {
      "text/plain": [
       "                                    index          station     entries  \\\n",
       "unique_turnstile_id                                                      \n",
       "A002R051 59 ST 02-00-00                 0            59 ST     7508509   \n",
       "A002R051 59 ST 02-00-01                43            59 ST     6657154   \n",
       "A002R051 59 ST 02-03-00                86            59 ST     1406769   \n",
       "A002R051 59 ST 02-03-01               129            59 ST     1529856   \n",
       "A002R051 59 ST 02-03-02               172            59 ST     6612655   \n",
       "...                                   ...              ...         ...   \n",
       "R730R431 EASTCHSTER/DYRE 00-00-00  208459  EASTCHSTER/DYRE     1720336   \n",
       "R730R431 EASTCHSTER/DYRE 00-00-01  208501  EASTCHSTER/DYRE     6894072   \n",
       "R730R431 EASTCHSTER/DYRE 00-00-02  208543  EASTCHSTER/DYRE     3795776   \n",
       "R730R431 EASTCHSTER/DYRE 00-00-03  208585  EASTCHSTER/DYRE   540014408   \n",
       "R730R431 EASTCHSTER/DYRE 00-00-04  208627  EASTCHSTER/DYRE  1559829582   \n",
       "\n",
       "                                        exits           timestamp day_of_week  \\\n",
       "unique_turnstile_id                                                             \n",
       "A002R051 59 ST 02-00-00               2557569 2020-12-26 03:00:00    Saturday   \n",
       "A002R051 59 ST 02-00-01               1508424 2020-12-26 03:00:00    Saturday   \n",
       "A002R051 59 ST 02-03-00               5305160 2020-12-26 03:00:00    Saturday   \n",
       "A002R051 59 ST 02-03-01               2379972 2020-12-26 03:00:00    Saturday   \n",
       "A002R051 59 ST 02-03-02               8827961 2020-12-26 03:00:00    Saturday   \n",
       "...                                       ...                 ...         ...   \n",
       "R730R431 EASTCHSTER/DYRE 00-00-00     3279225 2020-12-26 00:00:00    Saturday   \n",
       "R730R431 EASTCHSTER/DYRE 00-00-01     8998816 2020-12-26 00:00:00    Saturday   \n",
       "R730R431 EASTCHSTER/DYRE 00-00-02     3441977 2020-12-26 00:00:00    Saturday   \n",
       "R730R431 EASTCHSTER/DYRE 00-00-03   539218753 2020-12-26 00:00:00    Saturday   \n",
       "R730R431 EASTCHSTER/DYRE 00-00-04  1728236434 2020-12-26 00:00:00    Saturday   \n",
       "\n",
       "                                   diff_entries    diff_exits  total_traffic  \\\n",
       "unique_turnstile_id                                                            \n",
       "A002R051 59 ST 02-00-00            2.000000e+00  1.200000e+01   1.400000e+01   \n",
       "A002R051 59 ST 02-00-01            8.544930e+05  1.050441e+06   1.904934e+06   \n",
       "A002R051 59 ST 02-03-00            5.252610e+06  3.795904e+06   9.048514e+06   \n",
       "A002R051 59 ST 02-03-01            1.220860e+05  2.929410e+06   3.051496e+06   \n",
       "A002R051 59 ST 02-03-02            5.080298e+06  6.443396e+06   1.152369e+07   \n",
       "...                                         ...           ...            ...   \n",
       "R730R431 EASTCHSTER/DYRE 00-00-00  2.062296e+09  1.646229e+08   2.226918e+09   \n",
       "R730R431 EASTCHSTER/DYRE 00-00-01  5.172865e+06  5.717972e+06   1.089084e+07   \n",
       "R730R431 EASTCHSTER/DYRE 00-00-02  3.100435e+06  5.560759e+06   8.661194e+06   \n",
       "R730R431 EASTCHSTER/DYRE 00-00-03  5.362157e+08  5.357733e+08   1.071989e+09   \n",
       "R730R431 EASTCHSTER/DYRE 00-00-04  1.019813e+09  1.189016e+09   2.208829e+09   \n",
       "\n",
       "                                   record_index  \n",
       "unique_turnstile_id                              \n",
       "A002R051 59 ST 02-00-00                       0  \n",
       "A002R051 59 ST 02-00-01                      43  \n",
       "A002R051 59 ST 02-03-00                      86  \n",
       "A002R051 59 ST 02-03-01                     129  \n",
       "A002R051 59 ST 02-03-02                     172  \n",
       "...                                         ...  \n",
       "R730R431 EASTCHSTER/DYRE 00-00-00        195259  \n",
       "R730R431 EASTCHSTER/DYRE 00-00-01        195301  \n",
       "R730R431 EASTCHSTER/DYRE 00-00-02        195343  \n",
       "R730R431 EASTCHSTER/DYRE 00-00-03        195385  \n",
       "R730R431 EASTCHSTER/DYRE 00-00-04        195427  \n",
       "\n",
       "[4613 rows x 10 columns]"
      ],
      "text/html": "<div>\n<style scoped>\n    .dataframe tbody tr th:only-of-type {\n        vertical-align: middle;\n    }\n\n    .dataframe tbody tr th {\n        vertical-align: top;\n    }\n\n    .dataframe thead th {\n        text-align: right;\n    }\n</style>\n<table border=\"1\" class=\"dataframe\">\n  <thead>\n    <tr style=\"text-align: right;\">\n      <th></th>\n      <th>index</th>\n      <th>station</th>\n      <th>entries</th>\n      <th>exits</th>\n      <th>timestamp</th>\n      <th>day_of_week</th>\n      <th>diff_entries</th>\n      <th>diff_exits</th>\n      <th>total_traffic</th>\n      <th>record_index</th>\n    </tr>\n    <tr>\n      <th>unique_turnstile_id</th>\n      <th></th>\n      <th></th>\n      <th></th>\n      <th></th>\n      <th></th>\n      <th></th>\n      <th></th>\n      <th></th>\n      <th></th>\n      <th></th>\n    </tr>\n  </thead>\n  <tbody>\n    <tr>\n      <th>A002R051 59 ST 02-00-00</th>\n      <td>0</td>\n      <td>59 ST</td>\n      <td>7508509</td>\n      <td>2557569</td>\n      <td>2020-12-26 03:00:00</td>\n      <td>Saturday</td>\n      <td>2.000000e+00</td>\n      <td>1.200000e+01</td>\n      <td>1.400000e+01</td>\n      <td>0</td>\n    </tr>\n    <tr>\n      <th>A002R051 59 ST 02-00-01</th>\n      <td>43</td>\n      <td>59 ST</td>\n      <td>6657154</td>\n      <td>1508424</td>\n      <td>2020-12-26 03:00:00</td>\n      <td>Saturday</td>\n      <td>8.544930e+05</td>\n      <td>1.050441e+06</td>\n      <td>1.904934e+06</td>\n      <td>43</td>\n    </tr>\n    <tr>\n      <th>A002R051 59 ST 02-03-00</th>\n      <td>86</td>\n      <td>59 ST</td>\n      <td>1406769</td>\n      <td>5305160</td>\n      <td>2020-12-26 03:00:00</td>\n      <td>Saturday</td>\n      <td>5.252610e+06</td>\n      <td>3.795904e+06</td>\n      <td>9.048514e+06</td>\n      <td>86</td>\n    </tr>\n    <tr>\n      <th>A002R051 59 ST 02-03-01</th>\n      <td>129</td>\n      <td>59 ST</td>\n      <td>1529856</td>\n      <td>2379972</td>\n      <td>2020-12-26 03:00:00</td>\n      <td>Saturday</td>\n      <td>1.220860e+05</td>\n      <td>2.929410e+06</td>\n      <td>3.051496e+06</td>\n      <td>129</td>\n    </tr>\n    <tr>\n      <th>A002R051 59 ST 02-03-02</th>\n      <td>172</td>\n      <td>59 ST</td>\n      <td>6612655</td>\n      <td>8827961</td>\n      <td>2020-12-26 03:00:00</td>\n      <td>Saturday</td>\n      <td>5.080298e+06</td>\n      <td>6.443396e+06</td>\n      <td>1.152369e+07</td>\n      <td>172</td>\n    </tr>\n    <tr>\n      <th>...</th>\n      <td>...</td>\n      <td>...</td>\n      <td>...</td>\n      <td>...</td>\n      <td>...</td>\n      <td>...</td>\n      <td>...</td>\n      <td>...</td>\n      <td>...</td>\n      <td>...</td>\n    </tr>\n    <tr>\n      <th>R730R431 EASTCHSTER/DYRE 00-00-00</th>\n      <td>208459</td>\n      <td>EASTCHSTER/DYRE</td>\n      <td>1720336</td>\n      <td>3279225</td>\n      <td>2020-12-26 00:00:00</td>\n      <td>Saturday</td>\n      <td>2.062296e+09</td>\n      <td>1.646229e+08</td>\n      <td>2.226918e+09</td>\n      <td>195259</td>\n    </tr>\n    <tr>\n      <th>R730R431 EASTCHSTER/DYRE 00-00-01</th>\n      <td>208501</td>\n      <td>EASTCHSTER/DYRE</td>\n      <td>6894072</td>\n      <td>8998816</td>\n      <td>2020-12-26 00:00:00</td>\n      <td>Saturday</td>\n      <td>5.172865e+06</td>\n      <td>5.717972e+06</td>\n      <td>1.089084e+07</td>\n      <td>195301</td>\n    </tr>\n    <tr>\n      <th>R730R431 EASTCHSTER/DYRE 00-00-02</th>\n      <td>208543</td>\n      <td>EASTCHSTER/DYRE</td>\n      <td>3795776</td>\n      <td>3441977</td>\n      <td>2020-12-26 00:00:00</td>\n      <td>Saturday</td>\n      <td>3.100435e+06</td>\n      <td>5.560759e+06</td>\n      <td>8.661194e+06</td>\n      <td>195343</td>\n    </tr>\n    <tr>\n      <th>R730R431 EASTCHSTER/DYRE 00-00-03</th>\n      <td>208585</td>\n      <td>EASTCHSTER/DYRE</td>\n      <td>540014408</td>\n      <td>539218753</td>\n      <td>2020-12-26 00:00:00</td>\n      <td>Saturday</td>\n      <td>5.362157e+08</td>\n      <td>5.357733e+08</td>\n      <td>1.071989e+09</td>\n      <td>195385</td>\n    </tr>\n    <tr>\n      <th>R730R431 EASTCHSTER/DYRE 00-00-04</th>\n      <td>208627</td>\n      <td>EASTCHSTER/DYRE</td>\n      <td>1559829582</td>\n      <td>1728236434</td>\n      <td>2020-12-26 00:00:00</td>\n      <td>Saturday</td>\n      <td>1.019813e+09</td>\n      <td>1.189016e+09</td>\n      <td>2.208829e+09</td>\n      <td>195427</td>\n    </tr>\n  </tbody>\n</table>\n<p>4613 rows × 10 columns</p>\n</div>"
     },
     "metadata": {},
     "execution_count": 427
    }
   ],
   "source": [
    "#identify first rows of unique turnstile data\n",
    "df_first_rows = df.groupby('unique_turnstile_id').first()\n",
    "df_first_rows"
   ]
  },
  {
   "cell_type": "code",
   "execution_count": 428,
   "metadata": {},
   "outputs": [],
   "source": [
    "#df_first_rows.columns"
   ]
  },
  {
   "cell_type": "code",
   "execution_count": 429,
   "metadata": {},
   "outputs": [
    {
     "output_type": "execute_result",
     "data": {
      "text/plain": [
       "4613"
      ]
     },
     "metadata": {},
     "execution_count": 429
    }
   ],
   "source": [
    "#index of records of first turnstile rows\n",
    "list_index = df_first_rows.record_index.values\n",
    "len(list_index)"
   ]
  },
  {
   "cell_type": "code",
   "execution_count": 430,
   "metadata": {},
   "outputs": [],
   "source": [
    "#drop first rows from main df\n",
    "df.drop(list_index, inplace=True)"
   ]
  },
  {
   "cell_type": "code",
   "execution_count": 431,
   "metadata": {},
   "outputs": [],
   "source": [
    "#keep only data with traffic > 0\n",
    "df = df[df['total_traffic'] > 0]"
   ]
  },
  {
   "cell_type": "code",
   "execution_count": 432,
   "metadata": {},
   "outputs": [],
   "source": [
    "df = df.reset_index()\n"
   ]
  },
  {
   "cell_type": "code",
   "execution_count": 433,
   "metadata": {},
   "outputs": [
    {
     "output_type": "execute_result",
     "data": {
      "text/plain": [
       "        level_0   index          station     entries       exits  \\\n",
       "0             1       1            59 ST     7508511     2557581   \n",
       "1             2       2            59 ST     7508531     2557636   \n",
       "2             3       3            59 ST     7508610     2557667   \n",
       "3             4       4            59 ST     7508767     2557689   \n",
       "4             5       5            59 ST     7508852     2557704   \n",
       "...         ...     ...              ...         ...         ...   \n",
       "162395   195464  208664  EASTCHSTER/DYRE  1559829041  1728236785   \n",
       "162396   195465  208665  EASTCHSTER/DYRE  1559829038  1728236790   \n",
       "162397   195466  208666  EASTCHSTER/DYRE  1559829033  1728236794   \n",
       "162398   195467  208667  EASTCHSTER/DYRE  1559829023  1728236798   \n",
       "162399   195468  208668  EASTCHSTER/DYRE  1559829018  1728236813   \n",
       "\n",
       "                 timestamp                unique_turnstile_id day_of_week  \\\n",
       "0      2020-12-26 07:00:00            A002R051 59 ST 02-00-00    Saturday   \n",
       "1      2020-12-26 11:00:00            A002R051 59 ST 02-00-00    Saturday   \n",
       "2      2020-12-26 15:00:00            A002R051 59 ST 02-00-00    Saturday   \n",
       "3      2020-12-26 19:00:00            A002R051 59 ST 02-00-00    Saturday   \n",
       "4      2020-12-26 23:00:00            A002R051 59 ST 02-00-00    Saturday   \n",
       "...                    ...                                ...         ...   \n",
       "162395 2021-01-01 04:00:00  R730R431 EASTCHSTER/DYRE 00-00-04      Friday   \n",
       "162396 2021-01-01 08:00:00  R730R431 EASTCHSTER/DYRE 00-00-04      Friday   \n",
       "162397 2021-01-01 12:00:00  R730R431 EASTCHSTER/DYRE 00-00-04      Friday   \n",
       "162398 2021-01-01 16:00:00  R730R431 EASTCHSTER/DYRE 00-00-04      Friday   \n",
       "162399 2021-01-01 20:00:00  R730R431 EASTCHSTER/DYRE 00-00-04      Friday   \n",
       "\n",
       "        diff_entries  diff_exits  total_traffic  \n",
       "0                2.0        12.0           14.0  \n",
       "1               20.0        55.0           75.0  \n",
       "2               79.0        31.0          110.0  \n",
       "3              157.0        22.0          179.0  \n",
       "4               85.0        15.0          100.0  \n",
       "...              ...         ...            ...  \n",
       "162395           0.0         1.0            1.0  \n",
       "162396           3.0         5.0            8.0  \n",
       "162397           5.0         4.0            9.0  \n",
       "162398          10.0         4.0           14.0  \n",
       "162399           5.0        15.0           20.0  \n",
       "\n",
       "[162400 rows x 11 columns]"
      ],
      "text/html": "<div>\n<style scoped>\n    .dataframe tbody tr th:only-of-type {\n        vertical-align: middle;\n    }\n\n    .dataframe tbody tr th {\n        vertical-align: top;\n    }\n\n    .dataframe thead th {\n        text-align: right;\n    }\n</style>\n<table border=\"1\" class=\"dataframe\">\n  <thead>\n    <tr style=\"text-align: right;\">\n      <th></th>\n      <th>level_0</th>\n      <th>index</th>\n      <th>station</th>\n      <th>entries</th>\n      <th>exits</th>\n      <th>timestamp</th>\n      <th>unique_turnstile_id</th>\n      <th>day_of_week</th>\n      <th>diff_entries</th>\n      <th>diff_exits</th>\n      <th>total_traffic</th>\n    </tr>\n  </thead>\n  <tbody>\n    <tr>\n      <th>0</th>\n      <td>1</td>\n      <td>1</td>\n      <td>59 ST</td>\n      <td>7508511</td>\n      <td>2557581</td>\n      <td>2020-12-26 07:00:00</td>\n      <td>A002R051 59 ST 02-00-00</td>\n      <td>Saturday</td>\n      <td>2.0</td>\n      <td>12.0</td>\n      <td>14.0</td>\n    </tr>\n    <tr>\n      <th>1</th>\n      <td>2</td>\n      <td>2</td>\n      <td>59 ST</td>\n      <td>7508531</td>\n      <td>2557636</td>\n      <td>2020-12-26 11:00:00</td>\n      <td>A002R051 59 ST 02-00-00</td>\n      <td>Saturday</td>\n      <td>20.0</td>\n      <td>55.0</td>\n      <td>75.0</td>\n    </tr>\n    <tr>\n      <th>2</th>\n      <td>3</td>\n      <td>3</td>\n      <td>59 ST</td>\n      <td>7508610</td>\n      <td>2557667</td>\n      <td>2020-12-26 15:00:00</td>\n      <td>A002R051 59 ST 02-00-00</td>\n      <td>Saturday</td>\n      <td>79.0</td>\n      <td>31.0</td>\n      <td>110.0</td>\n    </tr>\n    <tr>\n      <th>3</th>\n      <td>4</td>\n      <td>4</td>\n      <td>59 ST</td>\n      <td>7508767</td>\n      <td>2557689</td>\n      <td>2020-12-26 19:00:00</td>\n      <td>A002R051 59 ST 02-00-00</td>\n      <td>Saturday</td>\n      <td>157.0</td>\n      <td>22.0</td>\n      <td>179.0</td>\n    </tr>\n    <tr>\n      <th>4</th>\n      <td>5</td>\n      <td>5</td>\n      <td>59 ST</td>\n      <td>7508852</td>\n      <td>2557704</td>\n      <td>2020-12-26 23:00:00</td>\n      <td>A002R051 59 ST 02-00-00</td>\n      <td>Saturday</td>\n      <td>85.0</td>\n      <td>15.0</td>\n      <td>100.0</td>\n    </tr>\n    <tr>\n      <th>...</th>\n      <td>...</td>\n      <td>...</td>\n      <td>...</td>\n      <td>...</td>\n      <td>...</td>\n      <td>...</td>\n      <td>...</td>\n      <td>...</td>\n      <td>...</td>\n      <td>...</td>\n      <td>...</td>\n    </tr>\n    <tr>\n      <th>162395</th>\n      <td>195464</td>\n      <td>208664</td>\n      <td>EASTCHSTER/DYRE</td>\n      <td>1559829041</td>\n      <td>1728236785</td>\n      <td>2021-01-01 04:00:00</td>\n      <td>R730R431 EASTCHSTER/DYRE 00-00-04</td>\n      <td>Friday</td>\n      <td>0.0</td>\n      <td>1.0</td>\n      <td>1.0</td>\n    </tr>\n    <tr>\n      <th>162396</th>\n      <td>195465</td>\n      <td>208665</td>\n      <td>EASTCHSTER/DYRE</td>\n      <td>1559829038</td>\n      <td>1728236790</td>\n      <td>2021-01-01 08:00:00</td>\n      <td>R730R431 EASTCHSTER/DYRE 00-00-04</td>\n      <td>Friday</td>\n      <td>3.0</td>\n      <td>5.0</td>\n      <td>8.0</td>\n    </tr>\n    <tr>\n      <th>162397</th>\n      <td>195466</td>\n      <td>208666</td>\n      <td>EASTCHSTER/DYRE</td>\n      <td>1559829033</td>\n      <td>1728236794</td>\n      <td>2021-01-01 12:00:00</td>\n      <td>R730R431 EASTCHSTER/DYRE 00-00-04</td>\n      <td>Friday</td>\n      <td>5.0</td>\n      <td>4.0</td>\n      <td>9.0</td>\n    </tr>\n    <tr>\n      <th>162398</th>\n      <td>195467</td>\n      <td>208667</td>\n      <td>EASTCHSTER/DYRE</td>\n      <td>1559829023</td>\n      <td>1728236798</td>\n      <td>2021-01-01 16:00:00</td>\n      <td>R730R431 EASTCHSTER/DYRE 00-00-04</td>\n      <td>Friday</td>\n      <td>10.0</td>\n      <td>4.0</td>\n      <td>14.0</td>\n    </tr>\n    <tr>\n      <th>162399</th>\n      <td>195468</td>\n      <td>208668</td>\n      <td>EASTCHSTER/DYRE</td>\n      <td>1559829018</td>\n      <td>1728236813</td>\n      <td>2021-01-01 20:00:00</td>\n      <td>R730R431 EASTCHSTER/DYRE 00-00-04</td>\n      <td>Friday</td>\n      <td>5.0</td>\n      <td>15.0</td>\n      <td>20.0</td>\n    </tr>\n  </tbody>\n</table>\n<p>162400 rows × 11 columns</p>\n</div>"
     },
     "metadata": {},
     "execution_count": 433
    }
   ],
   "source": [
    "#drop record index column. no longer applies after re-indexing\n",
    "df.drop('record_index', axis=1)"
   ]
  },
  {
   "cell_type": "code",
   "execution_count": 434,
   "metadata": {},
   "outputs": [
    {
     "output_type": "execute_result",
     "data": {
      "text/plain": [
       "        level_0   index          station     entries       exits  \\\n",
       "135482   162621  175821           135 ST  1828739339  1728008021   \n",
       "135227   162242  175442           135 ST   855624591   922774443   \n",
       "132492   159135  172335           170 ST    50883726    50997243   \n",
       "132491   159134  172334           170 ST           4           0   \n",
       "10237     11579   11579   DELANCEY/ESSEX          18          27   \n",
       "110683   132748  145948            79 ST     2238296     1358922   \n",
       "110690   132755  145955            79 ST     2238427     1359140   \n",
       "110681   132746  145946            79 ST     2238056     1358832   \n",
       "110685   132750  145950            79 ST     2238359     1358948   \n",
       "110679   132744  145944            79 ST     2237921     1358718   \n",
       "110689   132754  145954            79 ST       40076       45503   \n",
       "110687   132752  145952            79 ST     2238366     1358956   \n",
       "110686   132751  145951            79 ST       40066       45440   \n",
       "110684   132749  145949            79 ST       40025       45395   \n",
       "110682   132747  145947            79 ST       39861       45273   \n",
       "110680   132745  145945            79 ST       39747       45163   \n",
       "110678   132743  145943            79 ST       39708       45067   \n",
       "110676   132741  145941            79 ST     2237811     1358493   \n",
       "110675   132740  145940            79 ST       39697       44999   \n",
       "55119     64317   64317        FULTON ST          15           2   \n",
       "55145     64345   64345        FULTON ST           8           4   \n",
       "22781     26703   26703   NEW UTRECHT AV      262182          10   \n",
       "22786     26708   26708   NEW UTRECHT AV           6           2   \n",
       "117247   140265  153465          WALL ST          79          12   \n",
       "110731   132797  145997            79 ST      110329       33862   \n",
       "110737   132803  146003            79 ST       79514       51614   \n",
       "110738   132804  146004            79 ST      110436       33947   \n",
       "110733   132799  145999            79 ST      110364       33870   \n",
       "110735   132801  146001            79 ST      110366       33871   \n",
       "110734   132800  146000            79 ST       79499       51567   \n",
       "110732   132798  145998            79 ST       79465       51549   \n",
       "110729   132795  145995            79 ST      110158       33831   \n",
       "110730   132796  145996            79 ST       79330       51490   \n",
       "110728   132794  145994            79 ST       79211       51403   \n",
       "110727   132793  145993            79 ST      110007       33767   \n",
       "110726   132792  145992            79 ST       79175       51314   \n",
       "110724   132790  145990            79 ST      109911       33678   \n",
       "110723   132789  145989            79 ST       79158       51254   \n",
       "114070   136414  149614           157 ST          57          66   \n",
       "63227     74879   74879      BEACH 25 ST           9           3   \n",
       "158561   191198  204398  SUTTER AV-RUTLD       23529       71007   \n",
       "107348   128693  141893   TIMES SQ-42 ST      589765      194936   \n",
       "149772   180170  193370    JUNCTION BLVD    13817347    35467882   \n",
       "85031    101690  101690  34 ST-HERALD SQ     8178879    14406884   \n",
       "47074     55109   55109  42 ST-PORT AUTH     2042740     8920763   \n",
       "47109     55145   55145  42 ST-PORT AUTH  1281189926   178652474   \n",
       "47062     55097   55097  42 ST-PORT AUTH     2041603     8914115   \n",
       "47068     55103   55103  42 ST-PORT AUTH     2042162     8917401   \n",
       "149784   180182  193382    JUNCTION BLVD    13819025    35473656   \n",
       "149778   180176  193376    JUNCTION BLVD    13818139    35470718   \n",
       "\n",
       "                 timestamp                 unique_turnstile_id day_of_week  \\\n",
       "135482 2020-12-29 15:00:00            R307R207 135 ST 01-00-02     Tuesday   \n",
       "135227 2020-12-29 11:00:00            R306R207 135 ST 00-00-00     Tuesday   \n",
       "132492 2020-12-27 15:00:00            R284R243 170 ST 00-00-00      Sunday   \n",
       "132491 2020-12-27 12:00:00            R284R243 170 ST 00-00-00      Sunday   \n",
       "10237  2020-12-27 16:00:00    A061R142 DELANCEY/ESSEX 00-03-00      Sunday   \n",
       "110683 2020-12-30 20:00:00             R162R166 79 ST 00-00-00   Wednesday   \n",
       "110690 2020-12-31 12:00:00             R162R166 79 ST 00-00-00    Thursday   \n",
       "110681 2020-12-30 16:00:00             R162R166 79 ST 00-00-00   Wednesday   \n",
       "110685 2020-12-31 00:00:00             R162R166 79 ST 00-00-00    Thursday   \n",
       "110679 2020-12-30 12:00:00             R162R166 79 ST 00-00-00   Wednesday   \n",
       "110689 2020-12-31 08:00:00             R162R166 79 ST 00-00-00    Thursday   \n",
       "110687 2020-12-31 04:00:00             R162R166 79 ST 00-00-00    Thursday   \n",
       "110686 2020-12-31 00:00:00             R162R166 79 ST 00-00-00    Thursday   \n",
       "110684 2020-12-30 20:00:00             R162R166 79 ST 00-00-00   Wednesday   \n",
       "110682 2020-12-30 16:00:00             R162R166 79 ST 00-00-00   Wednesday   \n",
       "110680 2020-12-30 12:00:00             R162R166 79 ST 00-00-00   Wednesday   \n",
       "110678 2020-12-30 08:00:00             R162R166 79 ST 00-00-00   Wednesday   \n",
       "110676 2020-12-30 04:00:00             R162R166 79 ST 00-00-00   Wednesday   \n",
       "110675 2020-12-30 00:00:00             R162R166 79 ST 00-00-00   Wednesday   \n",
       "55119  2020-12-28 18:00:00         N098R028 FULTON ST 00-07-00      Monday   \n",
       "55145  2020-12-26 14:00:00         N098R028 FULTON ST 00-07-01    Saturday   \n",
       "22781  2020-12-26 16:00:00    D006R398 NEW UTRECHT AV 01-06-00    Saturday   \n",
       "22786  2020-12-27 12:00:00    D006R398 NEW UTRECHT AV 01-06-00      Sunday   \n",
       "117247 2020-12-29 17:00:00           R203R043 WALL ST 00-03-00     Tuesday   \n",
       "110731 2020-12-30 20:00:00             R162R166 79 ST 00-00-01   Wednesday   \n",
       "110737 2020-12-31 08:00:00             R162R166 79 ST 00-00-01    Thursday   \n",
       "110738 2020-12-31 12:00:00             R162R166 79 ST 00-00-01    Thursday   \n",
       "110733 2020-12-31 00:00:00             R162R166 79 ST 00-00-01    Thursday   \n",
       "110735 2020-12-31 04:00:00             R162R166 79 ST 00-00-01    Thursday   \n",
       "110734 2020-12-31 00:00:00             R162R166 79 ST 00-00-01    Thursday   \n",
       "110732 2020-12-30 20:00:00             R162R166 79 ST 00-00-01   Wednesday   \n",
       "110729 2020-12-30 16:00:00             R162R166 79 ST 00-00-01   Wednesday   \n",
       "110730 2020-12-30 16:00:00             R162R166 79 ST 00-00-01   Wednesday   \n",
       "110728 2020-12-30 12:00:00             R162R166 79 ST 00-00-01   Wednesday   \n",
       "110727 2020-12-30 12:00:00             R162R166 79 ST 00-00-01   Wednesday   \n",
       "110726 2020-12-30 08:00:00             R162R166 79 ST 00-00-01   Wednesday   \n",
       "110724 2020-12-30 04:00:00             R162R166 79 ST 00-00-01   Wednesday   \n",
       "110723 2020-12-30 00:00:00             R162R166 79 ST 00-00-01   Wednesday   \n",
       "114070 2020-12-29 12:00:00            R179R193 157 ST 01-00-01     Tuesday   \n",
       "63227  2021-01-01 11:00:00       N195R358 BEACH 25 ST 00-00-01      Friday   \n",
       "158561 2021-01-01 11:00:00   R627R063 SUTTER AV-RUTLD 00-03-02      Friday   \n",
       "107348 2020-12-31 19:00:00    R145R032 TIMES SQ-42 ST 00-06-01    Thursday   \n",
       "149772 2020-12-28 19:00:00     R528R097 JUNCTION BLVD 00-00-00      Monday   \n",
       "85031  2020-12-29 19:00:00   N506R022 34 ST-HERALD SQ 00-00-00     Tuesday   \n",
       "47074  2020-12-30 19:00:00  N063AR011 42 ST-PORT AUTH 00-00-00   Wednesday   \n",
       "47109  2020-12-29 19:00:00  N063AR011 42 ST-PORT AUTH 00-00-01     Tuesday   \n",
       "47062  2020-12-28 19:00:00  N063AR011 42 ST-PORT AUTH 00-00-00      Monday   \n",
       "47068  2020-12-29 19:00:00  N063AR011 42 ST-PORT AUTH 00-00-00     Tuesday   \n",
       "149784 2020-12-30 19:00:00     R528R097 JUNCTION BLVD 00-00-00   Wednesday   \n",
       "149778 2020-12-29 19:00:00     R528R097 JUNCTION BLVD 00-00-00     Tuesday   \n",
       "\n",
       "        diff_entries    diff_exits  total_traffic  record_index  \n",
       "135482  1.821543e+09  1.717955e+09   3.539498e+09        162621  \n",
       "135227  8.421683e+08  9.191326e+08   1.761301e+09        162242  \n",
       "132492  5.088372e+07  5.099724e+07   1.018810e+08        159135  \n",
       "132491  5.088368e+07  5.099719e+07   1.018809e+08        159134  \n",
       "10237   3.039868e+06  2.113937e+06   5.153805e+06         11579  \n",
       "110683  2.198435e+06  1.313649e+06   3.512084e+06        132748  \n",
       "110690  2.198351e+06  1.313637e+06   3.511988e+06        132755  \n",
       "110681  2.198309e+06  1.313669e+06   3.511978e+06        132746  \n",
       "110685  2.198334e+06  1.313553e+06   3.511887e+06        132750  \n",
       "110679  2.198213e+06  1.313651e+06   3.511864e+06        132744  \n",
       "110689  2.198307e+06  1.313519e+06   3.511826e+06        132754  \n",
       "110687  2.198300e+06  1.313516e+06   3.511816e+06        132752  \n",
       "110686  2.198293e+06  1.313508e+06   3.511801e+06        132751  \n",
       "110684  2.198271e+06  1.313527e+06   3.511798e+06        132749  \n",
       "110682  2.198195e+06  1.313559e+06   3.511754e+06        132747  \n",
       "110680  2.198174e+06  1.313555e+06   3.511729e+06        132745  \n",
       "110678  2.198133e+06  1.313508e+06   3.511641e+06        132743  \n",
       "110676  2.198114e+06  1.313494e+06   3.511608e+06        132741  \n",
       "110675  2.198113e+06  1.313492e+06   3.511605e+06        132740  \n",
       "55119   1.505325e+06  1.863098e+06   3.368423e+06         64317  \n",
       "55145   8.857980e+05  6.687070e+05   1.554505e+06         64345  \n",
       "22781   7.675430e+05  1.649000e+05   9.324430e+05         26703  \n",
       "22786   2.622030e+05  2.700000e+01   2.622300e+05         26708  \n",
       "117247  6.810400e+04  1.612200e+04   8.422600e+04        140265  \n",
       "110731  3.099900e+04  1.762800e+04   4.862700e+04        132797  \n",
       "110737  3.086700e+04  1.772700e+04   4.859400e+04        132803  \n",
       "110738  3.092200e+04  1.766700e+04   4.858900e+04        132804  \n",
       "110733  3.089900e+04  1.767900e+04   4.857800e+04        132799  \n",
       "110735  3.086700e+04  1.769600e+04   4.856300e+04        132801  \n",
       "110734  3.086500e+04  1.769700e+04   4.856200e+04        132800  \n",
       "110732  3.086400e+04  1.768700e+04   4.855100e+04        132798  \n",
       "110729  3.094700e+04  1.757200e+04   4.851900e+04        132795  \n",
       "110730  3.082800e+04  1.765900e+04   4.848700e+04        132796  \n",
       "110728  3.079600e+04  1.763600e+04   4.843200e+04        132794  \n",
       "110727  3.083200e+04  1.754700e+04   4.837900e+04        132793  \n",
       "110726  3.075600e+04  1.760900e+04   4.836500e+04        132792  \n",
       "110724  3.075300e+04  1.757600e+04   4.832900e+04        132790  \n",
       "110723  3.075100e+04  1.757600e+04   4.832700e+04        132789  \n",
       "114070  9.015000e+03  1.736000e+04   2.637500e+04        136414  \n",
       "63227   4.699000e+03  5.054000e+03   9.753000e+03         74879  \n",
       "158561  8.370000e+02  2.513000e+03   3.350000e+03        191198  \n",
       "107348  2.230000e+02  1.399000e+03   1.622000e+03        128693  \n",
       "149772  9.600000e+01  1.371000e+03   1.467000e+03        180170  \n",
       "85031   5.760000e+02  8.770000e+02   1.453000e+03        101690  \n",
       "47074   7.400000e+01  1.375000e+03   1.449000e+03         55109  \n",
       "47109   1.100000e+02  1.303000e+03   1.413000e+03         55145  \n",
       "47062   6.900000e+01  1.332000e+03   1.401000e+03         55097  \n",
       "47068   5.600000e+01  1.340000e+03   1.396000e+03         55103  \n",
       "149784  1.020000e+02  1.279000e+03   1.381000e+03        180182  \n",
       "149778  8.600000e+01  1.250000e+03   1.336000e+03        180176  "
      ],
      "text/html": "<div>\n<style scoped>\n    .dataframe tbody tr th:only-of-type {\n        vertical-align: middle;\n    }\n\n    .dataframe tbody tr th {\n        vertical-align: top;\n    }\n\n    .dataframe thead th {\n        text-align: right;\n    }\n</style>\n<table border=\"1\" class=\"dataframe\">\n  <thead>\n    <tr style=\"text-align: right;\">\n      <th></th>\n      <th>level_0</th>\n      <th>index</th>\n      <th>station</th>\n      <th>entries</th>\n      <th>exits</th>\n      <th>timestamp</th>\n      <th>unique_turnstile_id</th>\n      <th>day_of_week</th>\n      <th>diff_entries</th>\n      <th>diff_exits</th>\n      <th>total_traffic</th>\n      <th>record_index</th>\n    </tr>\n  </thead>\n  <tbody>\n    <tr>\n      <th>135482</th>\n      <td>162621</td>\n      <td>175821</td>\n      <td>135 ST</td>\n      <td>1828739339</td>\n      <td>1728008021</td>\n      <td>2020-12-29 15:00:00</td>\n      <td>R307R207 135 ST 01-00-02</td>\n      <td>Tuesday</td>\n      <td>1.821543e+09</td>\n      <td>1.717955e+09</td>\n      <td>3.539498e+09</td>\n      <td>162621</td>\n    </tr>\n    <tr>\n      <th>135227</th>\n      <td>162242</td>\n      <td>175442</td>\n      <td>135 ST</td>\n      <td>855624591</td>\n      <td>922774443</td>\n      <td>2020-12-29 11:00:00</td>\n      <td>R306R207 135 ST 00-00-00</td>\n      <td>Tuesday</td>\n      <td>8.421683e+08</td>\n      <td>9.191326e+08</td>\n      <td>1.761301e+09</td>\n      <td>162242</td>\n    </tr>\n    <tr>\n      <th>132492</th>\n      <td>159135</td>\n      <td>172335</td>\n      <td>170 ST</td>\n      <td>50883726</td>\n      <td>50997243</td>\n      <td>2020-12-27 15:00:00</td>\n      <td>R284R243 170 ST 00-00-00</td>\n      <td>Sunday</td>\n      <td>5.088372e+07</td>\n      <td>5.099724e+07</td>\n      <td>1.018810e+08</td>\n      <td>159135</td>\n    </tr>\n    <tr>\n      <th>132491</th>\n      <td>159134</td>\n      <td>172334</td>\n      <td>170 ST</td>\n      <td>4</td>\n      <td>0</td>\n      <td>2020-12-27 12:00:00</td>\n      <td>R284R243 170 ST 00-00-00</td>\n      <td>Sunday</td>\n      <td>5.088368e+07</td>\n      <td>5.099719e+07</td>\n      <td>1.018809e+08</td>\n      <td>159134</td>\n    </tr>\n    <tr>\n      <th>10237</th>\n      <td>11579</td>\n      <td>11579</td>\n      <td>DELANCEY/ESSEX</td>\n      <td>18</td>\n      <td>27</td>\n      <td>2020-12-27 16:00:00</td>\n      <td>A061R142 DELANCEY/ESSEX 00-03-00</td>\n      <td>Sunday</td>\n      <td>3.039868e+06</td>\n      <td>2.113937e+06</td>\n      <td>5.153805e+06</td>\n      <td>11579</td>\n    </tr>\n    <tr>\n      <th>110683</th>\n      <td>132748</td>\n      <td>145948</td>\n      <td>79 ST</td>\n      <td>2238296</td>\n      <td>1358922</td>\n      <td>2020-12-30 20:00:00</td>\n      <td>R162R166 79 ST 00-00-00</td>\n      <td>Wednesday</td>\n      <td>2.198435e+06</td>\n      <td>1.313649e+06</td>\n      <td>3.512084e+06</td>\n      <td>132748</td>\n    </tr>\n    <tr>\n      <th>110690</th>\n      <td>132755</td>\n      <td>145955</td>\n      <td>79 ST</td>\n      <td>2238427</td>\n      <td>1359140</td>\n      <td>2020-12-31 12:00:00</td>\n      <td>R162R166 79 ST 00-00-00</td>\n      <td>Thursday</td>\n      <td>2.198351e+06</td>\n      <td>1.313637e+06</td>\n      <td>3.511988e+06</td>\n      <td>132755</td>\n    </tr>\n    <tr>\n      <th>110681</th>\n      <td>132746</td>\n      <td>145946</td>\n      <td>79 ST</td>\n      <td>2238056</td>\n      <td>1358832</td>\n      <td>2020-12-30 16:00:00</td>\n      <td>R162R166 79 ST 00-00-00</td>\n      <td>Wednesday</td>\n      <td>2.198309e+06</td>\n      <td>1.313669e+06</td>\n      <td>3.511978e+06</td>\n      <td>132746</td>\n    </tr>\n    <tr>\n      <th>110685</th>\n      <td>132750</td>\n      <td>145950</td>\n      <td>79 ST</td>\n      <td>2238359</td>\n      <td>1358948</td>\n      <td>2020-12-31 00:00:00</td>\n      <td>R162R166 79 ST 00-00-00</td>\n      <td>Thursday</td>\n      <td>2.198334e+06</td>\n      <td>1.313553e+06</td>\n      <td>3.511887e+06</td>\n      <td>132750</td>\n    </tr>\n    <tr>\n      <th>110679</th>\n      <td>132744</td>\n      <td>145944</td>\n      <td>79 ST</td>\n      <td>2237921</td>\n      <td>1358718</td>\n      <td>2020-12-30 12:00:00</td>\n      <td>R162R166 79 ST 00-00-00</td>\n      <td>Wednesday</td>\n      <td>2.198213e+06</td>\n      <td>1.313651e+06</td>\n      <td>3.511864e+06</td>\n      <td>132744</td>\n    </tr>\n    <tr>\n      <th>110689</th>\n      <td>132754</td>\n      <td>145954</td>\n      <td>79 ST</td>\n      <td>40076</td>\n      <td>45503</td>\n      <td>2020-12-31 08:00:00</td>\n      <td>R162R166 79 ST 00-00-00</td>\n      <td>Thursday</td>\n      <td>2.198307e+06</td>\n      <td>1.313519e+06</td>\n      <td>3.511826e+06</td>\n      <td>132754</td>\n    </tr>\n    <tr>\n      <th>110687</th>\n      <td>132752</td>\n      <td>145952</td>\n      <td>79 ST</td>\n      <td>2238366</td>\n      <td>1358956</td>\n      <td>2020-12-31 04:00:00</td>\n      <td>R162R166 79 ST 00-00-00</td>\n      <td>Thursday</td>\n      <td>2.198300e+06</td>\n      <td>1.313516e+06</td>\n      <td>3.511816e+06</td>\n      <td>132752</td>\n    </tr>\n    <tr>\n      <th>110686</th>\n      <td>132751</td>\n      <td>145951</td>\n      <td>79 ST</td>\n      <td>40066</td>\n      <td>45440</td>\n      <td>2020-12-31 00:00:00</td>\n      <td>R162R166 79 ST 00-00-00</td>\n      <td>Thursday</td>\n      <td>2.198293e+06</td>\n      <td>1.313508e+06</td>\n      <td>3.511801e+06</td>\n      <td>132751</td>\n    </tr>\n    <tr>\n      <th>110684</th>\n      <td>132749</td>\n      <td>145949</td>\n      <td>79 ST</td>\n      <td>40025</td>\n      <td>45395</td>\n      <td>2020-12-30 20:00:00</td>\n      <td>R162R166 79 ST 00-00-00</td>\n      <td>Wednesday</td>\n      <td>2.198271e+06</td>\n      <td>1.313527e+06</td>\n      <td>3.511798e+06</td>\n      <td>132749</td>\n    </tr>\n    <tr>\n      <th>110682</th>\n      <td>132747</td>\n      <td>145947</td>\n      <td>79 ST</td>\n      <td>39861</td>\n      <td>45273</td>\n      <td>2020-12-30 16:00:00</td>\n      <td>R162R166 79 ST 00-00-00</td>\n      <td>Wednesday</td>\n      <td>2.198195e+06</td>\n      <td>1.313559e+06</td>\n      <td>3.511754e+06</td>\n      <td>132747</td>\n    </tr>\n    <tr>\n      <th>110680</th>\n      <td>132745</td>\n      <td>145945</td>\n      <td>79 ST</td>\n      <td>39747</td>\n      <td>45163</td>\n      <td>2020-12-30 12:00:00</td>\n      <td>R162R166 79 ST 00-00-00</td>\n      <td>Wednesday</td>\n      <td>2.198174e+06</td>\n      <td>1.313555e+06</td>\n      <td>3.511729e+06</td>\n      <td>132745</td>\n    </tr>\n    <tr>\n      <th>110678</th>\n      <td>132743</td>\n      <td>145943</td>\n      <td>79 ST</td>\n      <td>39708</td>\n      <td>45067</td>\n      <td>2020-12-30 08:00:00</td>\n      <td>R162R166 79 ST 00-00-00</td>\n      <td>Wednesday</td>\n      <td>2.198133e+06</td>\n      <td>1.313508e+06</td>\n      <td>3.511641e+06</td>\n      <td>132743</td>\n    </tr>\n    <tr>\n      <th>110676</th>\n      <td>132741</td>\n      <td>145941</td>\n      <td>79 ST</td>\n      <td>2237811</td>\n      <td>1358493</td>\n      <td>2020-12-30 04:00:00</td>\n      <td>R162R166 79 ST 00-00-00</td>\n      <td>Wednesday</td>\n      <td>2.198114e+06</td>\n      <td>1.313494e+06</td>\n      <td>3.511608e+06</td>\n      <td>132741</td>\n    </tr>\n    <tr>\n      <th>110675</th>\n      <td>132740</td>\n      <td>145940</td>\n      <td>79 ST</td>\n      <td>39697</td>\n      <td>44999</td>\n      <td>2020-12-30 00:00:00</td>\n      <td>R162R166 79 ST 00-00-00</td>\n      <td>Wednesday</td>\n      <td>2.198113e+06</td>\n      <td>1.313492e+06</td>\n      <td>3.511605e+06</td>\n      <td>132740</td>\n    </tr>\n    <tr>\n      <th>55119</th>\n      <td>64317</td>\n      <td>64317</td>\n      <td>FULTON ST</td>\n      <td>15</td>\n      <td>2</td>\n      <td>2020-12-28 18:00:00</td>\n      <td>N098R028 FULTON ST 00-07-00</td>\n      <td>Monday</td>\n      <td>1.505325e+06</td>\n      <td>1.863098e+06</td>\n      <td>3.368423e+06</td>\n      <td>64317</td>\n    </tr>\n    <tr>\n      <th>55145</th>\n      <td>64345</td>\n      <td>64345</td>\n      <td>FULTON ST</td>\n      <td>8</td>\n      <td>4</td>\n      <td>2020-12-26 14:00:00</td>\n      <td>N098R028 FULTON ST 00-07-01</td>\n      <td>Saturday</td>\n      <td>8.857980e+05</td>\n      <td>6.687070e+05</td>\n      <td>1.554505e+06</td>\n      <td>64345</td>\n    </tr>\n    <tr>\n      <th>22781</th>\n      <td>26703</td>\n      <td>26703</td>\n      <td>NEW UTRECHT AV</td>\n      <td>262182</td>\n      <td>10</td>\n      <td>2020-12-26 16:00:00</td>\n      <td>D006R398 NEW UTRECHT AV 01-06-00</td>\n      <td>Saturday</td>\n      <td>7.675430e+05</td>\n      <td>1.649000e+05</td>\n      <td>9.324430e+05</td>\n      <td>26703</td>\n    </tr>\n    <tr>\n      <th>22786</th>\n      <td>26708</td>\n      <td>26708</td>\n      <td>NEW UTRECHT AV</td>\n      <td>6</td>\n      <td>2</td>\n      <td>2020-12-27 12:00:00</td>\n      <td>D006R398 NEW UTRECHT AV 01-06-00</td>\n      <td>Sunday</td>\n      <td>2.622030e+05</td>\n      <td>2.700000e+01</td>\n      <td>2.622300e+05</td>\n      <td>26708</td>\n    </tr>\n    <tr>\n      <th>117247</th>\n      <td>140265</td>\n      <td>153465</td>\n      <td>WALL ST</td>\n      <td>79</td>\n      <td>12</td>\n      <td>2020-12-29 17:00:00</td>\n      <td>R203R043 WALL ST 00-03-00</td>\n      <td>Tuesday</td>\n      <td>6.810400e+04</td>\n      <td>1.612200e+04</td>\n      <td>8.422600e+04</td>\n      <td>140265</td>\n    </tr>\n    <tr>\n      <th>110731</th>\n      <td>132797</td>\n      <td>145997</td>\n      <td>79 ST</td>\n      <td>110329</td>\n      <td>33862</td>\n      <td>2020-12-30 20:00:00</td>\n      <td>R162R166 79 ST 00-00-01</td>\n      <td>Wednesday</td>\n      <td>3.099900e+04</td>\n      <td>1.762800e+04</td>\n      <td>4.862700e+04</td>\n      <td>132797</td>\n    </tr>\n    <tr>\n      <th>110737</th>\n      <td>132803</td>\n      <td>146003</td>\n      <td>79 ST</td>\n      <td>79514</td>\n      <td>51614</td>\n      <td>2020-12-31 08:00:00</td>\n      <td>R162R166 79 ST 00-00-01</td>\n      <td>Thursday</td>\n      <td>3.086700e+04</td>\n      <td>1.772700e+04</td>\n      <td>4.859400e+04</td>\n      <td>132803</td>\n    </tr>\n    <tr>\n      <th>110738</th>\n      <td>132804</td>\n      <td>146004</td>\n      <td>79 ST</td>\n      <td>110436</td>\n      <td>33947</td>\n      <td>2020-12-31 12:00:00</td>\n      <td>R162R166 79 ST 00-00-01</td>\n      <td>Thursday</td>\n      <td>3.092200e+04</td>\n      <td>1.766700e+04</td>\n      <td>4.858900e+04</td>\n      <td>132804</td>\n    </tr>\n    <tr>\n      <th>110733</th>\n      <td>132799</td>\n      <td>145999</td>\n      <td>79 ST</td>\n      <td>110364</td>\n      <td>33870</td>\n      <td>2020-12-31 00:00:00</td>\n      <td>R162R166 79 ST 00-00-01</td>\n      <td>Thursday</td>\n      <td>3.089900e+04</td>\n      <td>1.767900e+04</td>\n      <td>4.857800e+04</td>\n      <td>132799</td>\n    </tr>\n    <tr>\n      <th>110735</th>\n      <td>132801</td>\n      <td>146001</td>\n      <td>79 ST</td>\n      <td>110366</td>\n      <td>33871</td>\n      <td>2020-12-31 04:00:00</td>\n      <td>R162R166 79 ST 00-00-01</td>\n      <td>Thursday</td>\n      <td>3.086700e+04</td>\n      <td>1.769600e+04</td>\n      <td>4.856300e+04</td>\n      <td>132801</td>\n    </tr>\n    <tr>\n      <th>110734</th>\n      <td>132800</td>\n      <td>146000</td>\n      <td>79 ST</td>\n      <td>79499</td>\n      <td>51567</td>\n      <td>2020-12-31 00:00:00</td>\n      <td>R162R166 79 ST 00-00-01</td>\n      <td>Thursday</td>\n      <td>3.086500e+04</td>\n      <td>1.769700e+04</td>\n      <td>4.856200e+04</td>\n      <td>132800</td>\n    </tr>\n    <tr>\n      <th>110732</th>\n      <td>132798</td>\n      <td>145998</td>\n      <td>79 ST</td>\n      <td>79465</td>\n      <td>51549</td>\n      <td>2020-12-30 20:00:00</td>\n      <td>R162R166 79 ST 00-00-01</td>\n      <td>Wednesday</td>\n      <td>3.086400e+04</td>\n      <td>1.768700e+04</td>\n      <td>4.855100e+04</td>\n      <td>132798</td>\n    </tr>\n    <tr>\n      <th>110729</th>\n      <td>132795</td>\n      <td>145995</td>\n      <td>79 ST</td>\n      <td>110158</td>\n      <td>33831</td>\n      <td>2020-12-30 16:00:00</td>\n      <td>R162R166 79 ST 00-00-01</td>\n      <td>Wednesday</td>\n      <td>3.094700e+04</td>\n      <td>1.757200e+04</td>\n      <td>4.851900e+04</td>\n      <td>132795</td>\n    </tr>\n    <tr>\n      <th>110730</th>\n      <td>132796</td>\n      <td>145996</td>\n      <td>79 ST</td>\n      <td>79330</td>\n      <td>51490</td>\n      <td>2020-12-30 16:00:00</td>\n      <td>R162R166 79 ST 00-00-01</td>\n      <td>Wednesday</td>\n      <td>3.082800e+04</td>\n      <td>1.765900e+04</td>\n      <td>4.848700e+04</td>\n      <td>132796</td>\n    </tr>\n    <tr>\n      <th>110728</th>\n      <td>132794</td>\n      <td>145994</td>\n      <td>79 ST</td>\n      <td>79211</td>\n      <td>51403</td>\n      <td>2020-12-30 12:00:00</td>\n      <td>R162R166 79 ST 00-00-01</td>\n      <td>Wednesday</td>\n      <td>3.079600e+04</td>\n      <td>1.763600e+04</td>\n      <td>4.843200e+04</td>\n      <td>132794</td>\n    </tr>\n    <tr>\n      <th>110727</th>\n      <td>132793</td>\n      <td>145993</td>\n      <td>79 ST</td>\n      <td>110007</td>\n      <td>33767</td>\n      <td>2020-12-30 12:00:00</td>\n      <td>R162R166 79 ST 00-00-01</td>\n      <td>Wednesday</td>\n      <td>3.083200e+04</td>\n      <td>1.754700e+04</td>\n      <td>4.837900e+04</td>\n      <td>132793</td>\n    </tr>\n    <tr>\n      <th>110726</th>\n      <td>132792</td>\n      <td>145992</td>\n      <td>79 ST</td>\n      <td>79175</td>\n      <td>51314</td>\n      <td>2020-12-30 08:00:00</td>\n      <td>R162R166 79 ST 00-00-01</td>\n      <td>Wednesday</td>\n      <td>3.075600e+04</td>\n      <td>1.760900e+04</td>\n      <td>4.836500e+04</td>\n      <td>132792</td>\n    </tr>\n    <tr>\n      <th>110724</th>\n      <td>132790</td>\n      <td>145990</td>\n      <td>79 ST</td>\n      <td>109911</td>\n      <td>33678</td>\n      <td>2020-12-30 04:00:00</td>\n      <td>R162R166 79 ST 00-00-01</td>\n      <td>Wednesday</td>\n      <td>3.075300e+04</td>\n      <td>1.757600e+04</td>\n      <td>4.832900e+04</td>\n      <td>132790</td>\n    </tr>\n    <tr>\n      <th>110723</th>\n      <td>132789</td>\n      <td>145989</td>\n      <td>79 ST</td>\n      <td>79158</td>\n      <td>51254</td>\n      <td>2020-12-30 00:00:00</td>\n      <td>R162R166 79 ST 00-00-01</td>\n      <td>Wednesday</td>\n      <td>3.075100e+04</td>\n      <td>1.757600e+04</td>\n      <td>4.832700e+04</td>\n      <td>132789</td>\n    </tr>\n    <tr>\n      <th>114070</th>\n      <td>136414</td>\n      <td>149614</td>\n      <td>157 ST</td>\n      <td>57</td>\n      <td>66</td>\n      <td>2020-12-29 12:00:00</td>\n      <td>R179R193 157 ST 01-00-01</td>\n      <td>Tuesday</td>\n      <td>9.015000e+03</td>\n      <td>1.736000e+04</td>\n      <td>2.637500e+04</td>\n      <td>136414</td>\n    </tr>\n    <tr>\n      <th>63227</th>\n      <td>74879</td>\n      <td>74879</td>\n      <td>BEACH 25 ST</td>\n      <td>9</td>\n      <td>3</td>\n      <td>2021-01-01 11:00:00</td>\n      <td>N195R358 BEACH 25 ST 00-00-01</td>\n      <td>Friday</td>\n      <td>4.699000e+03</td>\n      <td>5.054000e+03</td>\n      <td>9.753000e+03</td>\n      <td>74879</td>\n    </tr>\n    <tr>\n      <th>158561</th>\n      <td>191198</td>\n      <td>204398</td>\n      <td>SUTTER AV-RUTLD</td>\n      <td>23529</td>\n      <td>71007</td>\n      <td>2021-01-01 11:00:00</td>\n      <td>R627R063 SUTTER AV-RUTLD 00-03-02</td>\n      <td>Friday</td>\n      <td>8.370000e+02</td>\n      <td>2.513000e+03</td>\n      <td>3.350000e+03</td>\n      <td>191198</td>\n    </tr>\n    <tr>\n      <th>107348</th>\n      <td>128693</td>\n      <td>141893</td>\n      <td>TIMES SQ-42 ST</td>\n      <td>589765</td>\n      <td>194936</td>\n      <td>2020-12-31 19:00:00</td>\n      <td>R145R032 TIMES SQ-42 ST 00-06-01</td>\n      <td>Thursday</td>\n      <td>2.230000e+02</td>\n      <td>1.399000e+03</td>\n      <td>1.622000e+03</td>\n      <td>128693</td>\n    </tr>\n    <tr>\n      <th>149772</th>\n      <td>180170</td>\n      <td>193370</td>\n      <td>JUNCTION BLVD</td>\n      <td>13817347</td>\n      <td>35467882</td>\n      <td>2020-12-28 19:00:00</td>\n      <td>R528R097 JUNCTION BLVD 00-00-00</td>\n      <td>Monday</td>\n      <td>9.600000e+01</td>\n      <td>1.371000e+03</td>\n      <td>1.467000e+03</td>\n      <td>180170</td>\n    </tr>\n    <tr>\n      <th>85031</th>\n      <td>101690</td>\n      <td>101690</td>\n      <td>34 ST-HERALD SQ</td>\n      <td>8178879</td>\n      <td>14406884</td>\n      <td>2020-12-29 19:00:00</td>\n      <td>N506R022 34 ST-HERALD SQ 00-00-00</td>\n      <td>Tuesday</td>\n      <td>5.760000e+02</td>\n      <td>8.770000e+02</td>\n      <td>1.453000e+03</td>\n      <td>101690</td>\n    </tr>\n    <tr>\n      <th>47074</th>\n      <td>55109</td>\n      <td>55109</td>\n      <td>42 ST-PORT AUTH</td>\n      <td>2042740</td>\n      <td>8920763</td>\n      <td>2020-12-30 19:00:00</td>\n      <td>N063AR011 42 ST-PORT AUTH 00-00-00</td>\n      <td>Wednesday</td>\n      <td>7.400000e+01</td>\n      <td>1.375000e+03</td>\n      <td>1.449000e+03</td>\n      <td>55109</td>\n    </tr>\n    <tr>\n      <th>47109</th>\n      <td>55145</td>\n      <td>55145</td>\n      <td>42 ST-PORT AUTH</td>\n      <td>1281189926</td>\n      <td>178652474</td>\n      <td>2020-12-29 19:00:00</td>\n      <td>N063AR011 42 ST-PORT AUTH 00-00-01</td>\n      <td>Tuesday</td>\n      <td>1.100000e+02</td>\n      <td>1.303000e+03</td>\n      <td>1.413000e+03</td>\n      <td>55145</td>\n    </tr>\n    <tr>\n      <th>47062</th>\n      <td>55097</td>\n      <td>55097</td>\n      <td>42 ST-PORT AUTH</td>\n      <td>2041603</td>\n      <td>8914115</td>\n      <td>2020-12-28 19:00:00</td>\n      <td>N063AR011 42 ST-PORT AUTH 00-00-00</td>\n      <td>Monday</td>\n      <td>6.900000e+01</td>\n      <td>1.332000e+03</td>\n      <td>1.401000e+03</td>\n      <td>55097</td>\n    </tr>\n    <tr>\n      <th>47068</th>\n      <td>55103</td>\n      <td>55103</td>\n      <td>42 ST-PORT AUTH</td>\n      <td>2042162</td>\n      <td>8917401</td>\n      <td>2020-12-29 19:00:00</td>\n      <td>N063AR011 42 ST-PORT AUTH 00-00-00</td>\n      <td>Tuesday</td>\n      <td>5.600000e+01</td>\n      <td>1.340000e+03</td>\n      <td>1.396000e+03</td>\n      <td>55103</td>\n    </tr>\n    <tr>\n      <th>149784</th>\n      <td>180182</td>\n      <td>193382</td>\n      <td>JUNCTION BLVD</td>\n      <td>13819025</td>\n      <td>35473656</td>\n      <td>2020-12-30 19:00:00</td>\n      <td>R528R097 JUNCTION BLVD 00-00-00</td>\n      <td>Wednesday</td>\n      <td>1.020000e+02</td>\n      <td>1.279000e+03</td>\n      <td>1.381000e+03</td>\n      <td>180182</td>\n    </tr>\n    <tr>\n      <th>149778</th>\n      <td>180176</td>\n      <td>193376</td>\n      <td>JUNCTION BLVD</td>\n      <td>13818139</td>\n      <td>35470718</td>\n      <td>2020-12-29 19:00:00</td>\n      <td>R528R097 JUNCTION BLVD 00-00-00</td>\n      <td>Tuesday</td>\n      <td>8.600000e+01</td>\n      <td>1.250000e+03</td>\n      <td>1.336000e+03</td>\n      <td>180176</td>\n    </tr>\n  </tbody>\n</table>\n</div>"
     },
     "metadata": {},
     "execution_count": 434
    }
   ],
   "source": [
    "df.sort_values(['total_traffic'],ascending=False).head(50)"
   ]
  },
  {
   "cell_type": "code",
   "execution_count": 435,
   "metadata": {},
   "outputs": [
    {
     "output_type": "execute_result",
     "data": {
      "text/plain": [
       "        level_0   index station     entries       exits           timestamp  \\\n",
       "135480   162619  175819  135 ST     7196336    10052494 2020-12-29 07:00:00   \n",
       "135481   162620  175820  135 ST     7196454    10052705 2020-12-29 11:00:00   \n",
       "135482   162621  175821  135 ST  1828739339  1728008021 2020-12-29 15:00:00   \n",
       "135483   162622  175822  135 ST  1828739543  1728007791 2020-12-29 19:00:00   \n",
       "135484   162623  175823  135 ST  1828739614  1728007631 2020-12-29 23:00:00   \n",
       "\n",
       "             unique_turnstile_id day_of_week  diff_entries    diff_exits  \\\n",
       "135480  R307R207 135 ST 01-00-02     Tuesday  2.300000e+01  3.100000e+01   \n",
       "135481  R307R207 135 ST 01-00-02     Tuesday  1.180000e+02  2.110000e+02   \n",
       "135482  R307R207 135 ST 01-00-02     Tuesday  1.821543e+09  1.717955e+09   \n",
       "135483  R307R207 135 ST 01-00-02     Tuesday  2.040000e+02  2.300000e+02   \n",
       "135484  R307R207 135 ST 01-00-02     Tuesday  7.100000e+01  1.600000e+02   \n",
       "\n",
       "        total_traffic  record_index  \n",
       "135480   5.400000e+01        162619  \n",
       "135481   3.290000e+02        162620  \n",
       "135482   3.539498e+09        162621  \n",
       "135483   4.340000e+02        162622  \n",
       "135484   2.310000e+02        162623  "
      ],
      "text/html": "<div>\n<style scoped>\n    .dataframe tbody tr th:only-of-type {\n        vertical-align: middle;\n    }\n\n    .dataframe tbody tr th {\n        vertical-align: top;\n    }\n\n    .dataframe thead th {\n        text-align: right;\n    }\n</style>\n<table border=\"1\" class=\"dataframe\">\n  <thead>\n    <tr style=\"text-align: right;\">\n      <th></th>\n      <th>level_0</th>\n      <th>index</th>\n      <th>station</th>\n      <th>entries</th>\n      <th>exits</th>\n      <th>timestamp</th>\n      <th>unique_turnstile_id</th>\n      <th>day_of_week</th>\n      <th>diff_entries</th>\n      <th>diff_exits</th>\n      <th>total_traffic</th>\n      <th>record_index</th>\n    </tr>\n  </thead>\n  <tbody>\n    <tr>\n      <th>135480</th>\n      <td>162619</td>\n      <td>175819</td>\n      <td>135 ST</td>\n      <td>7196336</td>\n      <td>10052494</td>\n      <td>2020-12-29 07:00:00</td>\n      <td>R307R207 135 ST 01-00-02</td>\n      <td>Tuesday</td>\n      <td>2.300000e+01</td>\n      <td>3.100000e+01</td>\n      <td>5.400000e+01</td>\n      <td>162619</td>\n    </tr>\n    <tr>\n      <th>135481</th>\n      <td>162620</td>\n      <td>175820</td>\n      <td>135 ST</td>\n      <td>7196454</td>\n      <td>10052705</td>\n      <td>2020-12-29 11:00:00</td>\n      <td>R307R207 135 ST 01-00-02</td>\n      <td>Tuesday</td>\n      <td>1.180000e+02</td>\n      <td>2.110000e+02</td>\n      <td>3.290000e+02</td>\n      <td>162620</td>\n    </tr>\n    <tr>\n      <th>135482</th>\n      <td>162621</td>\n      <td>175821</td>\n      <td>135 ST</td>\n      <td>1828739339</td>\n      <td>1728008021</td>\n      <td>2020-12-29 15:00:00</td>\n      <td>R307R207 135 ST 01-00-02</td>\n      <td>Tuesday</td>\n      <td>1.821543e+09</td>\n      <td>1.717955e+09</td>\n      <td>3.539498e+09</td>\n      <td>162621</td>\n    </tr>\n    <tr>\n      <th>135483</th>\n      <td>162622</td>\n      <td>175822</td>\n      <td>135 ST</td>\n      <td>1828739543</td>\n      <td>1728007791</td>\n      <td>2020-12-29 19:00:00</td>\n      <td>R307R207 135 ST 01-00-02</td>\n      <td>Tuesday</td>\n      <td>2.040000e+02</td>\n      <td>2.300000e+02</td>\n      <td>4.340000e+02</td>\n      <td>162622</td>\n    </tr>\n    <tr>\n      <th>135484</th>\n      <td>162623</td>\n      <td>175823</td>\n      <td>135 ST</td>\n      <td>1828739614</td>\n      <td>1728007631</td>\n      <td>2020-12-29 23:00:00</td>\n      <td>R307R207 135 ST 01-00-02</td>\n      <td>Tuesday</td>\n      <td>7.100000e+01</td>\n      <td>1.600000e+02</td>\n      <td>2.310000e+02</td>\n      <td>162623</td>\n    </tr>\n  </tbody>\n</table>\n</div>"
     },
     "metadata": {},
     "execution_count": 435
    }
   ],
   "source": [
    "df.iloc[135480:135485,:]"
   ]
  },
  {
   "cell_type": "code",
   "execution_count": 436,
   "metadata": {},
   "outputs": [
    {
     "output_type": "execute_result",
     "data": {
      "text/plain": [
       "        level_0   index         station     entries       exits  \\\n",
       "107345   128690  141890  TIMES SQ-42 ST      589355      192102   \n",
       "107346   128691  141891  TIMES SQ-42 ST      589427      192480   \n",
       "107347   128692  141892  TIMES SQ-42 ST      589542      193537   \n",
       "107348   128693  141893  TIMES SQ-42 ST      589765      194936   \n",
       "107349   128694  141894  TIMES SQ-42 ST      589845      195572   \n",
       "...         ...     ...             ...         ...         ...   \n",
       "135480   162619  175819          135 ST     7196336    10052494   \n",
       "135481   162620  175820          135 ST     7196454    10052705   \n",
       "135482   162621  175821          135 ST  1828739339  1728008021   \n",
       "135483   162622  175822          135 ST  1828739543  1728007791   \n",
       "135484   162623  175823          135 ST  1828739614  1728007631   \n",
       "\n",
       "                 timestamp               unique_turnstile_id day_of_week  \\\n",
       "107345 2020-12-31 07:00:00  R145R032 TIMES SQ-42 ST 00-06-01    Thursday   \n",
       "107346 2020-12-31 11:00:00  R145R032 TIMES SQ-42 ST 00-06-01    Thursday   \n",
       "107347 2020-12-31 15:00:00  R145R032 TIMES SQ-42 ST 00-06-01    Thursday   \n",
       "107348 2020-12-31 19:00:00  R145R032 TIMES SQ-42 ST 00-06-01    Thursday   \n",
       "107349 2020-12-31 23:00:00  R145R032 TIMES SQ-42 ST 00-06-01    Thursday   \n",
       "...                    ...                               ...         ...   \n",
       "135480 2020-12-29 07:00:00          R307R207 135 ST 01-00-02     Tuesday   \n",
       "135481 2020-12-29 11:00:00          R307R207 135 ST 01-00-02     Tuesday   \n",
       "135482 2020-12-29 15:00:00          R307R207 135 ST 01-00-02     Tuesday   \n",
       "135483 2020-12-29 19:00:00          R307R207 135 ST 01-00-02     Tuesday   \n",
       "135484 2020-12-29 23:00:00          R307R207 135 ST 01-00-02     Tuesday   \n",
       "\n",
       "        diff_entries    diff_exits  total_traffic  record_index  \n",
       "107345  2.600000e+01  5.300000e+01   7.900000e+01        128690  \n",
       "107346  7.200000e+01  3.780000e+02   4.500000e+02        128691  \n",
       "107347  1.150000e+02  1.057000e+03   1.172000e+03        128692  \n",
       "107348  2.230000e+02  1.399000e+03   1.622000e+03        128693  \n",
       "107349  8.000000e+01  6.360000e+02   7.160000e+02        128694  \n",
       "...              ...           ...            ...           ...  \n",
       "135480  2.300000e+01  3.100000e+01   5.400000e+01        162619  \n",
       "135481  1.180000e+02  2.110000e+02   3.290000e+02        162620  \n",
       "135482  1.821543e+09  1.717955e+09   3.539498e+09        162621  \n",
       "135483  2.040000e+02  2.300000e+02   4.340000e+02        162622  \n",
       "135484  7.100000e+01  1.600000e+02   2.310000e+02        162623  \n",
       "\n",
       "[28140 rows x 12 columns]"
      ],
      "text/html": "<div>\n<style scoped>\n    .dataframe tbody tr th:only-of-type {\n        vertical-align: middle;\n    }\n\n    .dataframe tbody tr th {\n        vertical-align: top;\n    }\n\n    .dataframe thead th {\n        text-align: right;\n    }\n</style>\n<table border=\"1\" class=\"dataframe\">\n  <thead>\n    <tr style=\"text-align: right;\">\n      <th></th>\n      <th>level_0</th>\n      <th>index</th>\n      <th>station</th>\n      <th>entries</th>\n      <th>exits</th>\n      <th>timestamp</th>\n      <th>unique_turnstile_id</th>\n      <th>day_of_week</th>\n      <th>diff_entries</th>\n      <th>diff_exits</th>\n      <th>total_traffic</th>\n      <th>record_index</th>\n    </tr>\n  </thead>\n  <tbody>\n    <tr>\n      <th>107345</th>\n      <td>128690</td>\n      <td>141890</td>\n      <td>TIMES SQ-42 ST</td>\n      <td>589355</td>\n      <td>192102</td>\n      <td>2020-12-31 07:00:00</td>\n      <td>R145R032 TIMES SQ-42 ST 00-06-01</td>\n      <td>Thursday</td>\n      <td>2.600000e+01</td>\n      <td>5.300000e+01</td>\n      <td>7.900000e+01</td>\n      <td>128690</td>\n    </tr>\n    <tr>\n      <th>107346</th>\n      <td>128691</td>\n      <td>141891</td>\n      <td>TIMES SQ-42 ST</td>\n      <td>589427</td>\n      <td>192480</td>\n      <td>2020-12-31 11:00:00</td>\n      <td>R145R032 TIMES SQ-42 ST 00-06-01</td>\n      <td>Thursday</td>\n      <td>7.200000e+01</td>\n      <td>3.780000e+02</td>\n      <td>4.500000e+02</td>\n      <td>128691</td>\n    </tr>\n    <tr>\n      <th>107347</th>\n      <td>128692</td>\n      <td>141892</td>\n      <td>TIMES SQ-42 ST</td>\n      <td>589542</td>\n      <td>193537</td>\n      <td>2020-12-31 15:00:00</td>\n      <td>R145R032 TIMES SQ-42 ST 00-06-01</td>\n      <td>Thursday</td>\n      <td>1.150000e+02</td>\n      <td>1.057000e+03</td>\n      <td>1.172000e+03</td>\n      <td>128692</td>\n    </tr>\n    <tr>\n      <th>107348</th>\n      <td>128693</td>\n      <td>141893</td>\n      <td>TIMES SQ-42 ST</td>\n      <td>589765</td>\n      <td>194936</td>\n      <td>2020-12-31 19:00:00</td>\n      <td>R145R032 TIMES SQ-42 ST 00-06-01</td>\n      <td>Thursday</td>\n      <td>2.230000e+02</td>\n      <td>1.399000e+03</td>\n      <td>1.622000e+03</td>\n      <td>128693</td>\n    </tr>\n    <tr>\n      <th>107349</th>\n      <td>128694</td>\n      <td>141894</td>\n      <td>TIMES SQ-42 ST</td>\n      <td>589845</td>\n      <td>195572</td>\n      <td>2020-12-31 23:00:00</td>\n      <td>R145R032 TIMES SQ-42 ST 00-06-01</td>\n      <td>Thursday</td>\n      <td>8.000000e+01</td>\n      <td>6.360000e+02</td>\n      <td>7.160000e+02</td>\n      <td>128694</td>\n    </tr>\n    <tr>\n      <th>...</th>\n      <td>...</td>\n      <td>...</td>\n      <td>...</td>\n      <td>...</td>\n      <td>...</td>\n      <td>...</td>\n      <td>...</td>\n      <td>...</td>\n      <td>...</td>\n      <td>...</td>\n      <td>...</td>\n      <td>...</td>\n    </tr>\n    <tr>\n      <th>135480</th>\n      <td>162619</td>\n      <td>175819</td>\n      <td>135 ST</td>\n      <td>7196336</td>\n      <td>10052494</td>\n      <td>2020-12-29 07:00:00</td>\n      <td>R307R207 135 ST 01-00-02</td>\n      <td>Tuesday</td>\n      <td>2.300000e+01</td>\n      <td>3.100000e+01</td>\n      <td>5.400000e+01</td>\n      <td>162619</td>\n    </tr>\n    <tr>\n      <th>135481</th>\n      <td>162620</td>\n      <td>175820</td>\n      <td>135 ST</td>\n      <td>7196454</td>\n      <td>10052705</td>\n      <td>2020-12-29 11:00:00</td>\n      <td>R307R207 135 ST 01-00-02</td>\n      <td>Tuesday</td>\n      <td>1.180000e+02</td>\n      <td>2.110000e+02</td>\n      <td>3.290000e+02</td>\n      <td>162620</td>\n    </tr>\n    <tr>\n      <th>135482</th>\n      <td>162621</td>\n      <td>175821</td>\n      <td>135 ST</td>\n      <td>1828739339</td>\n      <td>1728008021</td>\n      <td>2020-12-29 15:00:00</td>\n      <td>R307R207 135 ST 01-00-02</td>\n      <td>Tuesday</td>\n      <td>1.821543e+09</td>\n      <td>1.717955e+09</td>\n      <td>3.539498e+09</td>\n      <td>162621</td>\n    </tr>\n    <tr>\n      <th>135483</th>\n      <td>162622</td>\n      <td>175822</td>\n      <td>135 ST</td>\n      <td>1828739543</td>\n      <td>1728007791</td>\n      <td>2020-12-29 19:00:00</td>\n      <td>R307R207 135 ST 01-00-02</td>\n      <td>Tuesday</td>\n      <td>2.040000e+02</td>\n      <td>2.300000e+02</td>\n      <td>4.340000e+02</td>\n      <td>162622</td>\n    </tr>\n    <tr>\n      <th>135484</th>\n      <td>162623</td>\n      <td>175823</td>\n      <td>135 ST</td>\n      <td>1828739614</td>\n      <td>1728007631</td>\n      <td>2020-12-29 23:00:00</td>\n      <td>R307R207 135 ST 01-00-02</td>\n      <td>Tuesday</td>\n      <td>7.100000e+01</td>\n      <td>1.600000e+02</td>\n      <td>2.310000e+02</td>\n      <td>162623</td>\n    </tr>\n  </tbody>\n</table>\n<p>28140 rows × 12 columns</p>\n</div>"
     },
     "metadata": {},
     "execution_count": 436
    }
   ],
   "source": [
    "df.iloc[107345:135485,:]"
   ]
  },
  {
   "cell_type": "code",
   "execution_count": 437,
   "metadata": {},
   "outputs": [
    {
     "output_type": "execute_result",
     "data": {
      "text/plain": [
       "16300"
      ]
     },
     "metadata": {},
     "execution_count": 437
    }
   ],
   "source": [
    "# df_by_station = df.groupby([\"station\", \"timestamp\"]).total_traffic.max()\n",
    "# len(df_by_station)"
   ]
  },
  {
   "cell_type": "code",
   "execution_count": 438,
   "metadata": {},
   "outputs": [
    {
     "output_type": "execute_result",
     "data": {
      "text/plain": [
       "                      unique_turnstile_id           timestamp  total_traffic\n",
       "0                 A002R051 59 ST 02-00-00 2020-12-26 07:00:00           14.0\n",
       "1                 A002R051 59 ST 02-00-00 2020-12-26 11:00:00           75.0\n",
       "2                 A002R051 59 ST 02-00-00 2020-12-26 15:00:00          110.0\n",
       "3                 A002R051 59 ST 02-00-00 2020-12-26 19:00:00          179.0\n",
       "4                 A002R051 59 ST 02-00-00 2020-12-26 23:00:00          100.0\n",
       "...                                   ...                 ...            ...\n",
       "162381  R730R431 EASTCHSTER/DYRE 00-00-04 2021-01-01 04:00:00            1.0\n",
       "162382  R730R431 EASTCHSTER/DYRE 00-00-04 2021-01-01 08:00:00            8.0\n",
       "162383  R730R431 EASTCHSTER/DYRE 00-00-04 2021-01-01 12:00:00            9.0\n",
       "162384  R730R431 EASTCHSTER/DYRE 00-00-04 2021-01-01 16:00:00           14.0\n",
       "162385  R730R431 EASTCHSTER/DYRE 00-00-04 2021-01-01 20:00:00           20.0\n",
       "\n",
       "[162386 rows x 3 columns]"
      ],
      "text/html": "<div>\n<style scoped>\n    .dataframe tbody tr th:only-of-type {\n        vertical-align: middle;\n    }\n\n    .dataframe tbody tr th {\n        vertical-align: top;\n    }\n\n    .dataframe thead th {\n        text-align: right;\n    }\n</style>\n<table border=\"1\" class=\"dataframe\">\n  <thead>\n    <tr style=\"text-align: right;\">\n      <th></th>\n      <th>unique_turnstile_id</th>\n      <th>timestamp</th>\n      <th>total_traffic</th>\n    </tr>\n  </thead>\n  <tbody>\n    <tr>\n      <th>0</th>\n      <td>A002R051 59 ST 02-00-00</td>\n      <td>2020-12-26 07:00:00</td>\n      <td>14.0</td>\n    </tr>\n    <tr>\n      <th>1</th>\n      <td>A002R051 59 ST 02-00-00</td>\n      <td>2020-12-26 11:00:00</td>\n      <td>75.0</td>\n    </tr>\n    <tr>\n      <th>2</th>\n      <td>A002R051 59 ST 02-00-00</td>\n      <td>2020-12-26 15:00:00</td>\n      <td>110.0</td>\n    </tr>\n    <tr>\n      <th>3</th>\n      <td>A002R051 59 ST 02-00-00</td>\n      <td>2020-12-26 19:00:00</td>\n      <td>179.0</td>\n    </tr>\n    <tr>\n      <th>4</th>\n      <td>A002R051 59 ST 02-00-00</td>\n      <td>2020-12-26 23:00:00</td>\n      <td>100.0</td>\n    </tr>\n    <tr>\n      <th>...</th>\n      <td>...</td>\n      <td>...</td>\n      <td>...</td>\n    </tr>\n    <tr>\n      <th>162381</th>\n      <td>R730R431 EASTCHSTER/DYRE 00-00-04</td>\n      <td>2021-01-01 04:00:00</td>\n      <td>1.0</td>\n    </tr>\n    <tr>\n      <th>162382</th>\n      <td>R730R431 EASTCHSTER/DYRE 00-00-04</td>\n      <td>2021-01-01 08:00:00</td>\n      <td>8.0</td>\n    </tr>\n    <tr>\n      <th>162383</th>\n      <td>R730R431 EASTCHSTER/DYRE 00-00-04</td>\n      <td>2021-01-01 12:00:00</td>\n      <td>9.0</td>\n    </tr>\n    <tr>\n      <th>162384</th>\n      <td>R730R431 EASTCHSTER/DYRE 00-00-04</td>\n      <td>2021-01-01 16:00:00</td>\n      <td>14.0</td>\n    </tr>\n    <tr>\n      <th>162385</th>\n      <td>R730R431 EASTCHSTER/DYRE 00-00-04</td>\n      <td>2021-01-01 20:00:00</td>\n      <td>20.0</td>\n    </tr>\n  </tbody>\n</table>\n<p>162386 rows × 3 columns</p>\n</div>"
     },
     "metadata": {},
     "execution_count": 438
    }
   ],
   "source": [
    "df_by_station = df.groupby([\"unique_turnstile_id\", \"timestamp\"]).agg({'total_traffic': 'sum'}).reset_index()\n",
    "df_by_station"
   ]
  },
  {
   "cell_type": "code",
   "execution_count": 439,
   "metadata": {},
   "outputs": [
    {
     "output_type": "execute_result",
     "data": {
      "text/plain": [
       "                     unique_turnstile_id           timestamp  total_traffic\n",
       "135468          R307R207 135 ST 01-00-02 2020-12-29 15:00:00   3.539498e+09\n",
       "135213          R306R207 135 ST 00-00-00 2020-12-29 11:00:00   1.761301e+09\n",
       "132478          R284R243 170 ST 00-00-00 2020-12-27 15:00:00   1.018810e+08\n",
       "132477          R284R243 170 ST 00-00-00 2020-12-27 12:00:00   1.018809e+08\n",
       "110679           R162R166 79 ST 00-00-00 2020-12-30 20:00:00   7.023882e+06\n",
       "...                                  ...                 ...            ...\n",
       "51199   N083R138 W 4 ST-WASH SQ 01-03-00 2020-12-27 04:00:00   1.000000e+00\n",
       "8440      A050R088 CORTLANDT ST 00-03-00 2020-12-28 04:00:00   1.000000e+00\n",
       "89858        N531R129 BERGEN ST 01-06-01 2021-01-01 12:00:00   1.000000e+00\n",
       "108645           R155R116 50 ST 01-00-06 2021-01-01 07:00:00   1.000000e+00\n",
       "67227       N303R015 5 AV/53 ST 00-00-02 2021-01-01 09:00:00   1.000000e+00\n",
       "\n",
       "[162386 rows x 3 columns]"
      ],
      "text/html": "<div>\n<style scoped>\n    .dataframe tbody tr th:only-of-type {\n        vertical-align: middle;\n    }\n\n    .dataframe tbody tr th {\n        vertical-align: top;\n    }\n\n    .dataframe thead th {\n        text-align: right;\n    }\n</style>\n<table border=\"1\" class=\"dataframe\">\n  <thead>\n    <tr style=\"text-align: right;\">\n      <th></th>\n      <th>unique_turnstile_id</th>\n      <th>timestamp</th>\n      <th>total_traffic</th>\n    </tr>\n  </thead>\n  <tbody>\n    <tr>\n      <th>135468</th>\n      <td>R307R207 135 ST 01-00-02</td>\n      <td>2020-12-29 15:00:00</td>\n      <td>3.539498e+09</td>\n    </tr>\n    <tr>\n      <th>135213</th>\n      <td>R306R207 135 ST 00-00-00</td>\n      <td>2020-12-29 11:00:00</td>\n      <td>1.761301e+09</td>\n    </tr>\n    <tr>\n      <th>132478</th>\n      <td>R284R243 170 ST 00-00-00</td>\n      <td>2020-12-27 15:00:00</td>\n      <td>1.018810e+08</td>\n    </tr>\n    <tr>\n      <th>132477</th>\n      <td>R284R243 170 ST 00-00-00</td>\n      <td>2020-12-27 12:00:00</td>\n      <td>1.018809e+08</td>\n    </tr>\n    <tr>\n      <th>110679</th>\n      <td>R162R166 79 ST 00-00-00</td>\n      <td>2020-12-30 20:00:00</td>\n      <td>7.023882e+06</td>\n    </tr>\n    <tr>\n      <th>...</th>\n      <td>...</td>\n      <td>...</td>\n      <td>...</td>\n    </tr>\n    <tr>\n      <th>51199</th>\n      <td>N083R138 W 4 ST-WASH SQ 01-03-00</td>\n      <td>2020-12-27 04:00:00</td>\n      <td>1.000000e+00</td>\n    </tr>\n    <tr>\n      <th>8440</th>\n      <td>A050R088 CORTLANDT ST 00-03-00</td>\n      <td>2020-12-28 04:00:00</td>\n      <td>1.000000e+00</td>\n    </tr>\n    <tr>\n      <th>89858</th>\n      <td>N531R129 BERGEN ST 01-06-01</td>\n      <td>2021-01-01 12:00:00</td>\n      <td>1.000000e+00</td>\n    </tr>\n    <tr>\n      <th>108645</th>\n      <td>R155R116 50 ST 01-00-06</td>\n      <td>2021-01-01 07:00:00</td>\n      <td>1.000000e+00</td>\n    </tr>\n    <tr>\n      <th>67227</th>\n      <td>N303R015 5 AV/53 ST 00-00-02</td>\n      <td>2021-01-01 09:00:00</td>\n      <td>1.000000e+00</td>\n    </tr>\n  </tbody>\n</table>\n<p>162386 rows × 3 columns</p>\n</div>"
     },
     "metadata": {},
     "execution_count": 439
    }
   ],
   "source": [
    "df_by_station.sort_values(by=\"total_traffic\", ascending=False)"
   ]
  },
  {
   "cell_type": "code",
   "execution_count": null,
   "metadata": {},
   "outputs": [],
   "source": []
  }
 ],
 "metadata": {
  "kernelspec": {
   "name": "Python 3.8.5 64-bit",
   "display_name": "Python 3.8.5 64-bit",
   "metadata": {
    "interpreter": {
     "hash": "1ee38ef4a5a9feb55287fd749643f13d043cb0a7addaab2a9c224cbe137c0062"
    }
   }
  },
  "language_info": {
   "codemirror_mode": {
    "name": "ipython",
    "version": 3
   },
   "file_extension": ".py",
   "mimetype": "text/x-python",
   "name": "python",
   "nbconvert_exporter": "python",
   "pygments_lexer": "ipython3",
   "version": "3.8.5-final"
  }
 },
 "nbformat": 4,
 "nbformat_minor": 4
}