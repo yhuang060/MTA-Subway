{
 "cells": [
  {
   "cell_type": "code",
   "execution_count": 110,
   "metadata": {},
   "outputs": [],
   "source": [
    "import pandas as pd"
   ]
  },
  {
   "cell_type": "code",
   "execution_count": 111,
   "metadata": {},
   "outputs": [],
   "source": [
    "# Source: http://web.mta.info/developers/turnstile.html\n",
    "def get_data(week_nums):\n",
    "    url = \"http://web.mta.info/developers/data/nyct/turnstile/turnstile_{}.txt\"\n",
    "    dfs = []\n",
    "    for week_num in week_nums:\n",
    "        file_url = url.format(week_num)\n",
    "        dfs.append(pd.read_csv(file_url))\n",
    "    return pd.concat(dfs)\n",
    "        \n",
    "week_nums = [160903, 160910, 160917]\n",
    "df = get_data(week_nums)"
   ]
  },
  {
   "cell_type": "code",
   "execution_count": 112,
   "metadata": {},
   "outputs": [],
   "source": [
    "#clean column names\n",
    "df.rename(columns={'C/A': 'c_a', 'UNIT': 'unit', 'SCP': 'scp', 'STATION': 'station', 'LINENAME': 'linename', 'DIVISION': 'division', 'DATE': 'date','TIME': 'time', 'DESC': 'desc', 'ENTRIES': 'entries', df.columns[10]: 'exits'}, inplace=True)\n",
    "\n",
    "#keep only subway divisions\n",
    "df = df[(df['division'] == 'BMT') | (df['division'] == 'IND') | (df['division'] == 'IRT')]\n",
    "\n",
    "#Add formatted timestamp column\n",
    "df['timestamp'] = pd.to_datetime(df['date'] + \" \" + df['time'])\n",
    "\n",
    "#add unique turnstile id\n",
    "df['unique_turnstile_id'] = df['c_a'] + df['unit'] + ' ' + df['station'] + ' ' + df['scp']\n",
    "\n",
    "#add day of week column\n",
    "df['day_of_week'] = df.timestamp.dt.day_name()\n",
    "\n",
    "df = df.reset_index()"
   ]
  },
  {
   "cell_type": "code",
   "execution_count": 113,
   "metadata": {},
   "outputs": [],
   "source": [
    "#df.desc.value_counts()"
   ]
  },
  {
   "cell_type": "code",
   "execution_count": 114,
   "metadata": {},
   "outputs": [],
   "source": [
    "# Get rid of duplicate entries caused by \"RECOVER AUD\" in desc column, if any\n",
    "df.sort_values([\"c_a\", \"unit\", \"scp\", \"station\", \"timestamp\"], \n",
    "                          inplace=True, ascending=False)\n",
    "df.drop_duplicates(subset=[\"c_a\", \"unit\", \"scp\", \"station\", \"timestamp\"], inplace=True)"
   ]
  },
  {
   "cell_type": "code",
   "execution_count": 115,
   "metadata": {},
   "outputs": [],
   "source": [
    "#keep only needed columns\n",
    "df = df.loc[:,['station', 'entries', 'exits', 'timestamp', 'unique_turnstile_id']]"
   ]
  },
  {
   "cell_type": "code",
   "execution_count": 116,
   "metadata": {},
   "outputs": [],
   "source": [
    "#calculate actual volumes for each record (record minus previous record)\n",
    "df['diff_entries'] = abs(df.entries.diff())\n",
    "df['diff_exits'] = abs(df.exits.diff())\n",
    "df['total_traffic'] = df.diff_entries + df.diff_exits\n",
    "\n",
    "#record index in new column (needed to identify first instance of turnstile data)\n",
    "df['record_index'] = df.index\n",
    "#df"
   ]
  },
  {
   "cell_type": "code",
   "execution_count": 117,
   "metadata": {},
   "outputs": [],
   "source": [
    "#identify first rows of unique turnstile data\n",
    "df_first_rows = df.groupby('unique_turnstile_id').first()\n",
    "\n",
    "#index of records of first turnstile rows\n",
    "list_index = df_first_rows.record_index.values\n",
    "\n",
    "#drop first rows from main df\n",
    "df.drop(list_index, inplace=True)"
   ]
  },
  {
   "cell_type": "code",
   "execution_count": 118,
   "metadata": {},
   "outputs": [],
   "source": [
    "#keep only data with traffic > 0 amd < 14400 (1 person per second)\n",
    "df = df[(df['total_traffic'] > 0) & (df['total_traffic'] < 14400)]"
   ]
  },
  {
   "cell_type": "code",
   "execution_count": 119,
   "metadata": {},
   "outputs": [],
   "source": [
    "df = df.reset_index()\n"
   ]
  },
  {
   "cell_type": "code",
   "execution_count": 120,
   "metadata": {},
   "outputs": [
    {
     "output_type": "execute_result",
     "data": {
      "text/plain": [
       "         index          station  entries    exits           timestamp  \\\n",
       "0       545020  EASTCHSTER/DYRE  2446837  1015318 2016-09-16 17:00:00   \n",
       "1       545019  EASTCHSTER/DYRE  2446752  1015247 2016-09-16 13:00:00   \n",
       "2       545018  EASTCHSTER/DYRE  2446696  1015230 2016-09-16 09:00:00   \n",
       "3       545017  EASTCHSTER/DYRE  2446383  1015188 2016-09-16 05:00:00   \n",
       "4       545016  EASTCHSTER/DYRE  2446380  1015178 2016-09-16 01:00:00   \n",
       "...        ...              ...      ...      ...                 ...   \n",
       "480214       4            59 ST  5799833  1966214 2016-08-27 16:00:00   \n",
       "480215       3            59 ST  5799610  1966155 2016-08-27 12:00:00   \n",
       "480216       2            59 ST  5799492  1966079 2016-08-27 08:00:00   \n",
       "480217       1            59 ST  5799463  1966044 2016-08-27 04:00:00   \n",
       "480218       0            59 ST  5799442  1966041 2016-08-27 00:00:00   \n",
       "\n",
       "                      unique_turnstile_id  diff_entries  diff_exits  \\\n",
       "0       R730R431 EASTCHSTER/DYRE 00-00-04          76.0       104.0   \n",
       "1       R730R431 EASTCHSTER/DYRE 00-00-04          85.0        71.0   \n",
       "2       R730R431 EASTCHSTER/DYRE 00-00-04          56.0        17.0   \n",
       "3       R730R431 EASTCHSTER/DYRE 00-00-04         313.0        42.0   \n",
       "4       R730R431 EASTCHSTER/DYRE 00-00-04           3.0        10.0   \n",
       "...                                   ...           ...         ...   \n",
       "480214            A002R051 59 ST 02-00-00         288.0        57.0   \n",
       "480215            A002R051 59 ST 02-00-00         223.0        59.0   \n",
       "480216            A002R051 59 ST 02-00-00         118.0        76.0   \n",
       "480217            A002R051 59 ST 02-00-00          29.0        35.0   \n",
       "480218            A002R051 59 ST 02-00-00          21.0         3.0   \n",
       "\n",
       "        total_traffic  \n",
       "0               180.0  \n",
       "1               156.0  \n",
       "2                73.0  \n",
       "3               355.0  \n",
       "4                13.0  \n",
       "...               ...  \n",
       "480214          345.0  \n",
       "480215          282.0  \n",
       "480216          194.0  \n",
       "480217           64.0  \n",
       "480218           24.0  \n",
       "\n",
       "[480219 rows x 9 columns]"
      ],
      "text/html": "<div>\n<style scoped>\n    .dataframe tbody tr th:only-of-type {\n        vertical-align: middle;\n    }\n\n    .dataframe tbody tr th {\n        vertical-align: top;\n    }\n\n    .dataframe thead th {\n        text-align: right;\n    }\n</style>\n<table border=\"1\" class=\"dataframe\">\n  <thead>\n    <tr style=\"text-align: right;\">\n      <th></th>\n      <th>index</th>\n      <th>station</th>\n      <th>entries</th>\n      <th>exits</th>\n      <th>timestamp</th>\n      <th>unique_turnstile_id</th>\n      <th>diff_entries</th>\n      <th>diff_exits</th>\n      <th>total_traffic</th>\n    </tr>\n  </thead>\n  <tbody>\n    <tr>\n      <th>0</th>\n      <td>545020</td>\n      <td>EASTCHSTER/DYRE</td>\n      <td>2446837</td>\n      <td>1015318</td>\n      <td>2016-09-16 17:00:00</td>\n      <td>R730R431 EASTCHSTER/DYRE 00-00-04</td>\n      <td>76.0</td>\n      <td>104.0</td>\n      <td>180.0</td>\n    </tr>\n    <tr>\n      <th>1</th>\n      <td>545019</td>\n      <td>EASTCHSTER/DYRE</td>\n      <td>2446752</td>\n      <td>1015247</td>\n      <td>2016-09-16 13:00:00</td>\n      <td>R730R431 EASTCHSTER/DYRE 00-00-04</td>\n      <td>85.0</td>\n      <td>71.0</td>\n      <td>156.0</td>\n    </tr>\n    <tr>\n      <th>2</th>\n      <td>545018</td>\n      <td>EASTCHSTER/DYRE</td>\n      <td>2446696</td>\n      <td>1015230</td>\n      <td>2016-09-16 09:00:00</td>\n      <td>R730R431 EASTCHSTER/DYRE 00-00-04</td>\n      <td>56.0</td>\n      <td>17.0</td>\n      <td>73.0</td>\n    </tr>\n    <tr>\n      <th>3</th>\n      <td>545017</td>\n      <td>EASTCHSTER/DYRE</td>\n      <td>2446383</td>\n      <td>1015188</td>\n      <td>2016-09-16 05:00:00</td>\n      <td>R730R431 EASTCHSTER/DYRE 00-00-04</td>\n      <td>313.0</td>\n      <td>42.0</td>\n      <td>355.0</td>\n    </tr>\n    <tr>\n      <th>4</th>\n      <td>545016</td>\n      <td>EASTCHSTER/DYRE</td>\n      <td>2446380</td>\n      <td>1015178</td>\n      <td>2016-09-16 01:00:00</td>\n      <td>R730R431 EASTCHSTER/DYRE 00-00-04</td>\n      <td>3.0</td>\n      <td>10.0</td>\n      <td>13.0</td>\n    </tr>\n    <tr>\n      <th>...</th>\n      <td>...</td>\n      <td>...</td>\n      <td>...</td>\n      <td>...</td>\n      <td>...</td>\n      <td>...</td>\n      <td>...</td>\n      <td>...</td>\n      <td>...</td>\n    </tr>\n    <tr>\n      <th>480214</th>\n      <td>4</td>\n      <td>59 ST</td>\n      <td>5799833</td>\n      <td>1966214</td>\n      <td>2016-08-27 16:00:00</td>\n      <td>A002R051 59 ST 02-00-00</td>\n      <td>288.0</td>\n      <td>57.0</td>\n      <td>345.0</td>\n    </tr>\n    <tr>\n      <th>480215</th>\n      <td>3</td>\n      <td>59 ST</td>\n      <td>5799610</td>\n      <td>1966155</td>\n      <td>2016-08-27 12:00:00</td>\n      <td>A002R051 59 ST 02-00-00</td>\n      <td>223.0</td>\n      <td>59.0</td>\n      <td>282.0</td>\n    </tr>\n    <tr>\n      <th>480216</th>\n      <td>2</td>\n      <td>59 ST</td>\n      <td>5799492</td>\n      <td>1966079</td>\n      <td>2016-08-27 08:00:00</td>\n      <td>A002R051 59 ST 02-00-00</td>\n      <td>118.0</td>\n      <td>76.0</td>\n      <td>194.0</td>\n    </tr>\n    <tr>\n      <th>480217</th>\n      <td>1</td>\n      <td>59 ST</td>\n      <td>5799463</td>\n      <td>1966044</td>\n      <td>2016-08-27 04:00:00</td>\n      <td>A002R051 59 ST 02-00-00</td>\n      <td>29.0</td>\n      <td>35.0</td>\n      <td>64.0</td>\n    </tr>\n    <tr>\n      <th>480218</th>\n      <td>0</td>\n      <td>59 ST</td>\n      <td>5799442</td>\n      <td>1966041</td>\n      <td>2016-08-27 00:00:00</td>\n      <td>A002R051 59 ST 02-00-00</td>\n      <td>21.0</td>\n      <td>3.0</td>\n      <td>24.0</td>\n    </tr>\n  </tbody>\n</table>\n<p>480219 rows × 9 columns</p>\n</div>"
     },
     "metadata": {},
     "execution_count": 120
    }
   ],
   "source": [
    "#drop record index column. no longer applies after re-indexing\n",
    "df.drop('record_index', axis=1)"
   ]
  },
  {
   "cell_type": "code",
   "execution_count": 121,
   "metadata": {},
   "outputs": [
    {
     "output_type": "execute_result",
     "data": {
      "text/plain": [
       "                       unique_turnstile_id           timestamp  total_traffic\n",
       "157763         N095R014 FULTON ST 00-03-03 2016-09-13 09:00:00        13960.0\n",
       "104713   JFK01R535 HOWARD BCH JFK 00-00-03 2016-09-12 09:00:00         9895.0\n",
       "105670  JFK03R536 JFK JAMAICA CT1 00-00-02 2016-09-06 09:00:00         8392.0\n",
       "405862     R323R387 WEST FARMS SQ 00-00-03 2016-09-14 14:59:38         4952.0\n",
       "260280   N519R461 B'WAY-LAFAYETTE 00-00-00 2016-09-08 13:00:00         4257.0\n",
       "...                                    ...                 ...            ...\n",
       "205921             N311R339 36 ST 01-00-01 2016-09-11 01:00:00            1.0\n",
       "214033      N325AR218 ELMHURST AV 00-00-01 2016-08-27 20:00:00            1.0\n",
       "214032      N325AR218 ELMHURST AV 00-00-01 2016-08-27 12:00:00            1.0\n",
       "428858    R509R121 QUEENSBORO PLZ 00-00-05 2016-09-07 00:00:00            1.0\n",
       "386612    R260R205 149/GRAND CONC 01-05-00 2016-09-16 16:00:00            1.0\n",
       "\n",
       "[480219 rows x 3 columns]"
      ],
      "text/html": "<div>\n<style scoped>\n    .dataframe tbody tr th:only-of-type {\n        vertical-align: middle;\n    }\n\n    .dataframe tbody tr th {\n        vertical-align: top;\n    }\n\n    .dataframe thead th {\n        text-align: right;\n    }\n</style>\n<table border=\"1\" class=\"dataframe\">\n  <thead>\n    <tr style=\"text-align: right;\">\n      <th></th>\n      <th>unique_turnstile_id</th>\n      <th>timestamp</th>\n      <th>total_traffic</th>\n    </tr>\n  </thead>\n  <tbody>\n    <tr>\n      <th>157763</th>\n      <td>N095R014 FULTON ST 00-03-03</td>\n      <td>2016-09-13 09:00:00</td>\n      <td>13960.0</td>\n    </tr>\n    <tr>\n      <th>104713</th>\n      <td>JFK01R535 HOWARD BCH JFK 00-00-03</td>\n      <td>2016-09-12 09:00:00</td>\n      <td>9895.0</td>\n    </tr>\n    <tr>\n      <th>105670</th>\n      <td>JFK03R536 JFK JAMAICA CT1 00-00-02</td>\n      <td>2016-09-06 09:00:00</td>\n      <td>8392.0</td>\n    </tr>\n    <tr>\n      <th>405862</th>\n      <td>R323R387 WEST FARMS SQ 00-00-03</td>\n      <td>2016-09-14 14:59:38</td>\n      <td>4952.0</td>\n    </tr>\n    <tr>\n      <th>260280</th>\n      <td>N519R461 B'WAY-LAFAYETTE 00-00-00</td>\n      <td>2016-09-08 13:00:00</td>\n      <td>4257.0</td>\n    </tr>\n    <tr>\n      <th>...</th>\n      <td>...</td>\n      <td>...</td>\n      <td>...</td>\n    </tr>\n    <tr>\n      <th>205921</th>\n      <td>N311R339 36 ST 01-00-01</td>\n      <td>2016-09-11 01:00:00</td>\n      <td>1.0</td>\n    </tr>\n    <tr>\n      <th>214033</th>\n      <td>N325AR218 ELMHURST AV 00-00-01</td>\n      <td>2016-08-27 20:00:00</td>\n      <td>1.0</td>\n    </tr>\n    <tr>\n      <th>214032</th>\n      <td>N325AR218 ELMHURST AV 00-00-01</td>\n      <td>2016-08-27 12:00:00</td>\n      <td>1.0</td>\n    </tr>\n    <tr>\n      <th>428858</th>\n      <td>R509R121 QUEENSBORO PLZ 00-00-05</td>\n      <td>2016-09-07 00:00:00</td>\n      <td>1.0</td>\n    </tr>\n    <tr>\n      <th>386612</th>\n      <td>R260R205 149/GRAND CONC 01-05-00</td>\n      <td>2016-09-16 16:00:00</td>\n      <td>1.0</td>\n    </tr>\n  </tbody>\n</table>\n<p>480219 rows × 3 columns</p>\n</div>"
     },
     "metadata": {},
     "execution_count": 121
    }
   ],
   "source": [
    "df_by_station = df.groupby([\"unique_turnstile_id\", \"timestamp\"]).agg({'total_traffic': 'sum'}).reset_index().sort_values(by=\"total_traffic\", ascending=False)\n",
    "df_by_station"
   ]
  },
  {
   "cell_type": "code",
   "execution_count": null,
   "metadata": {},
   "outputs": [],
   "source": []
  }
 ],
 "metadata": {
  "kernelspec": {
   "name": "Python 3.8.5 64-bit",
   "display_name": "Python 3.8.5 64-bit",
   "metadata": {
    "interpreter": {
     "hash": "1ee38ef4a5a9feb55287fd749643f13d043cb0a7addaab2a9c224cbe137c0062"
    }
   }
  },
  "language_info": {
   "codemirror_mode": {
    "name": "ipython",
    "version": 3
   },
   "file_extension": ".py",
   "mimetype": "text/x-python",
   "name": "python",
   "nbconvert_exporter": "python",
   "pygments_lexer": "ipython3",
   "version": "3.8.5-final"
  }
 },
 "nbformat": 4,
 "nbformat_minor": 4
}