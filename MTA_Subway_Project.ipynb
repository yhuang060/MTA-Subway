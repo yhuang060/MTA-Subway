{
 "cells": [
  {
   "cell_type": "code",
   "execution_count": 122,
   "metadata": {},
   "outputs": [],
   "source": [
    "import pandas as pd"
   ]
  },
  {
   "cell_type": "code",
   "execution_count": 123,
   "metadata": {},
   "outputs": [],
   "source": [
    "# Source: http://web.mta.info/developers/turnstile.html\n",
    "def get_data(week_nums):\n",
    "    url = \"http://web.mta.info/developers/data/nyct/turnstile/turnstile_{}.txt\"\n",
    "    dfs = []\n",
    "    for week_num in week_nums:\n",
    "        file_url = url.format(week_num)\n",
    "        dfs.append(pd.read_csv(file_url))\n",
    "    return pd.concat(dfs)\n",
    "        \n",
    "week_nums = [190601, 190608, 190615, 190622, 190629, 190706, 190713, 190720, 190727, 190803, 190810, 190817, 190824, 190831, 190907, 190914, 190921, 190928]\n",
    "df = get_data(week_nums)"
   ]
  },
  {
   "cell_type": "code",
   "execution_count": 124,
   "metadata": {},
   "outputs": [],
   "source": [
    "#clean column names\n",
    "df.rename(columns={'C/A': 'c_a', 'UNIT': 'unit', 'SCP': 'scp', 'STATION': 'station', 'LINENAME': 'linename', 'DIVISION': 'division', 'DATE': 'date','TIME': 'time', 'DESC': 'desc', 'ENTRIES': 'entries', df.columns[10]: 'exits'}, inplace=True)\n",
    "\n",
    "#keep only subway divisions\n",
    "df = df[(df['division'] == 'BMT') | (df['division'] == 'IND') | (df['division'] == 'IRT')]\n",
    "\n",
    "#Add formatted timestamp column\n",
    "df['timestamp'] = pd.to_datetime(df['date'] + \" \" + df['time'])\n",
    "\n",
    "#add unique turnstile id\n",
    "df['unique_turnstile_id'] = df['c_a'] + df['unit'] + ' ' + df['station'] + ' ' + df['scp']\n",
    "\n",
    "#add day of week column\n",
    "df['day_of_week'] = df.timestamp.dt.day_name()\n",
    "\n",
    "df = df.reset_index()"
   ]
  },
  {
   "cell_type": "code",
   "execution_count": 125,
   "metadata": {},
   "outputs": [],
   "source": [
    "#df.desc.value_counts()"
   ]
  },
  {
   "cell_type": "code",
   "execution_count": 126,
   "metadata": {},
   "outputs": [],
   "source": [
    "# Get rid of duplicate entries caused by \"RECOVER AUD\" in desc column, if any\n",
    "df.sort_values([\"c_a\", \"unit\", \"scp\", \"station\", \"timestamp\"], \n",
    "                          inplace=True, ascending=False)\n",
    "df.drop_duplicates(subset=[\"c_a\", \"unit\", \"scp\", \"station\", \"timestamp\"], inplace=True)"
   ]
  },
  {
   "cell_type": "code",
   "execution_count": 127,
   "metadata": {},
   "outputs": [],
   "source": [
    "#keep only needed columns\n",
    "df = df.loc[:,['station', 'entries', 'exits', 'timestamp', 'unique_turnstile_id']]"
   ]
  },
  {
   "cell_type": "code",
   "execution_count": 128,
   "metadata": {},
   "outputs": [],
   "source": [
    "#calculate actual volumes for each record (record minus previous record)\n",
    "df['diff_entries'] = abs(df.entries.diff())\n",
    "df['diff_exits'] = abs(df.exits.diff())\n",
    "df['total_traffic'] = df.diff_entries + df.diff_exits\n",
    "\n",
    "#record index in new column (needed to identify first instance of turnstile data)\n",
    "df['record_index'] = df.index\n",
    "#df"
   ]
  },
  {
   "cell_type": "code",
   "execution_count": 129,
   "metadata": {},
   "outputs": [],
   "source": [
    "#identify first rows of unique turnstile data\n",
    "df_first_rows = df.groupby('unique_turnstile_id').first()\n",
    "\n",
    "#index of records of first turnstile rows\n",
    "list_index = df_first_rows.record_index.values\n",
    "\n",
    "#drop first rows from main df\n",
    "df.drop(list_index, inplace=True)"
   ]
  },
  {
   "cell_type": "code",
   "execution_count": 130,
   "metadata": {},
   "outputs": [],
   "source": [
    "#keep only data with traffic > 0 amd < 14400 (1 person per second)\n",
    "df = df[(df['total_traffic'] > 0) & (df['total_traffic'] < 14400)]"
   ]
  },
  {
   "cell_type": "code",
   "execution_count": 131,
   "metadata": {},
   "outputs": [],
   "source": [
    "df = df.reset_index()\n"
   ]
  },
  {
   "cell_type": "code",
   "execution_count": 132,
   "metadata": {},
   "outputs": [
    {
     "output_type": "execute_result",
     "data": {
      "text/plain": [
       "           index          station     entries       exits           timestamp  \\\n",
       "0        3441723  EASTCHSTER/DYRE  1559926981  1728192971 2019-09-27 17:00:00   \n",
       "1        3441722  EASTCHSTER/DYRE  1559927099  1728192888 2019-09-27 13:00:00   \n",
       "2        3441721  EASTCHSTER/DYRE  1559927163  1728192863 2019-09-27 09:00:00   \n",
       "3        3441720  EASTCHSTER/DYRE  1559927497  1728192834 2019-09-27 05:00:00   \n",
       "4        3441719  EASTCHSTER/DYRE  1559927501  1728192834 2019-09-27 01:00:00   \n",
       "...          ...              ...         ...         ...                 ...   \n",
       "3006302        4            59 ST     7072182     2396555 2019-05-25 16:00:00   \n",
       "3006303        3            59 ST     7071943     2396500 2019-05-25 12:00:00   \n",
       "3006304        2            59 ST     7071864     2396443 2019-05-25 08:00:00   \n",
       "3006305        1            59 ST     7071844     2396415 2019-05-25 04:00:00   \n",
       "3006306        0            59 ST     7071830     2396411 2019-05-25 00:00:00   \n",
       "\n",
       "                       unique_turnstile_id  diff_entries  diff_exits  \\\n",
       "0        R730R431 EASTCHSTER/DYRE 00-00-04          51.0        81.0   \n",
       "1        R730R431 EASTCHSTER/DYRE 00-00-04         118.0        83.0   \n",
       "2        R730R431 EASTCHSTER/DYRE 00-00-04          64.0        25.0   \n",
       "3        R730R431 EASTCHSTER/DYRE 00-00-04         334.0        29.0   \n",
       "4        R730R431 EASTCHSTER/DYRE 00-00-04           4.0         0.0   \n",
       "...                                    ...           ...         ...   \n",
       "3006302            A002R051 59 ST 02-00-00         274.0        38.0   \n",
       "3006303            A002R051 59 ST 02-00-00         239.0        55.0   \n",
       "3006304            A002R051 59 ST 02-00-00          79.0        57.0   \n",
       "3006305            A002R051 59 ST 02-00-00          20.0        28.0   \n",
       "3006306            A002R051 59 ST 02-00-00          14.0         4.0   \n",
       "\n",
       "         total_traffic  \n",
       "0                132.0  \n",
       "1                201.0  \n",
       "2                 89.0  \n",
       "3                363.0  \n",
       "4                  4.0  \n",
       "...                ...  \n",
       "3006302          312.0  \n",
       "3006303          294.0  \n",
       "3006304          136.0  \n",
       "3006305           48.0  \n",
       "3006306           18.0  \n",
       "\n",
       "[3006307 rows x 9 columns]"
      ],
      "text/html": "<div>\n<style scoped>\n    .dataframe tbody tr th:only-of-type {\n        vertical-align: middle;\n    }\n\n    .dataframe tbody tr th {\n        vertical-align: top;\n    }\n\n    .dataframe thead th {\n        text-align: right;\n    }\n</style>\n<table border=\"1\" class=\"dataframe\">\n  <thead>\n    <tr style=\"text-align: right;\">\n      <th></th>\n      <th>index</th>\n      <th>station</th>\n      <th>entries</th>\n      <th>exits</th>\n      <th>timestamp</th>\n      <th>unique_turnstile_id</th>\n      <th>diff_entries</th>\n      <th>diff_exits</th>\n      <th>total_traffic</th>\n    </tr>\n  </thead>\n  <tbody>\n    <tr>\n      <th>0</th>\n      <td>3441723</td>\n      <td>EASTCHSTER/DYRE</td>\n      <td>1559926981</td>\n      <td>1728192971</td>\n      <td>2019-09-27 17:00:00</td>\n      <td>R730R431 EASTCHSTER/DYRE 00-00-04</td>\n      <td>51.0</td>\n      <td>81.0</td>\n      <td>132.0</td>\n    </tr>\n    <tr>\n      <th>1</th>\n      <td>3441722</td>\n      <td>EASTCHSTER/DYRE</td>\n      <td>1559927099</td>\n      <td>1728192888</td>\n      <td>2019-09-27 13:00:00</td>\n      <td>R730R431 EASTCHSTER/DYRE 00-00-04</td>\n      <td>118.0</td>\n      <td>83.0</td>\n      <td>201.0</td>\n    </tr>\n    <tr>\n      <th>2</th>\n      <td>3441721</td>\n      <td>EASTCHSTER/DYRE</td>\n      <td>1559927163</td>\n      <td>1728192863</td>\n      <td>2019-09-27 09:00:00</td>\n      <td>R730R431 EASTCHSTER/DYRE 00-00-04</td>\n      <td>64.0</td>\n      <td>25.0</td>\n      <td>89.0</td>\n    </tr>\n    <tr>\n      <th>3</th>\n      <td>3441720</td>\n      <td>EASTCHSTER/DYRE</td>\n      <td>1559927497</td>\n      <td>1728192834</td>\n      <td>2019-09-27 05:00:00</td>\n      <td>R730R431 EASTCHSTER/DYRE 00-00-04</td>\n      <td>334.0</td>\n      <td>29.0</td>\n      <td>363.0</td>\n    </tr>\n    <tr>\n      <th>4</th>\n      <td>3441719</td>\n      <td>EASTCHSTER/DYRE</td>\n      <td>1559927501</td>\n      <td>1728192834</td>\n      <td>2019-09-27 01:00:00</td>\n      <td>R730R431 EASTCHSTER/DYRE 00-00-04</td>\n      <td>4.0</td>\n      <td>0.0</td>\n      <td>4.0</td>\n    </tr>\n    <tr>\n      <th>...</th>\n      <td>...</td>\n      <td>...</td>\n      <td>...</td>\n      <td>...</td>\n      <td>...</td>\n      <td>...</td>\n      <td>...</td>\n      <td>...</td>\n      <td>...</td>\n    </tr>\n    <tr>\n      <th>3006302</th>\n      <td>4</td>\n      <td>59 ST</td>\n      <td>7072182</td>\n      <td>2396555</td>\n      <td>2019-05-25 16:00:00</td>\n      <td>A002R051 59 ST 02-00-00</td>\n      <td>274.0</td>\n      <td>38.0</td>\n      <td>312.0</td>\n    </tr>\n    <tr>\n      <th>3006303</th>\n      <td>3</td>\n      <td>59 ST</td>\n      <td>7071943</td>\n      <td>2396500</td>\n      <td>2019-05-25 12:00:00</td>\n      <td>A002R051 59 ST 02-00-00</td>\n      <td>239.0</td>\n      <td>55.0</td>\n      <td>294.0</td>\n    </tr>\n    <tr>\n      <th>3006304</th>\n      <td>2</td>\n      <td>59 ST</td>\n      <td>7071864</td>\n      <td>2396443</td>\n      <td>2019-05-25 08:00:00</td>\n      <td>A002R051 59 ST 02-00-00</td>\n      <td>79.0</td>\n      <td>57.0</td>\n      <td>136.0</td>\n    </tr>\n    <tr>\n      <th>3006305</th>\n      <td>1</td>\n      <td>59 ST</td>\n      <td>7071844</td>\n      <td>2396415</td>\n      <td>2019-05-25 04:00:00</td>\n      <td>A002R051 59 ST 02-00-00</td>\n      <td>20.0</td>\n      <td>28.0</td>\n      <td>48.0</td>\n    </tr>\n    <tr>\n      <th>3006306</th>\n      <td>0</td>\n      <td>59 ST</td>\n      <td>7071830</td>\n      <td>2396411</td>\n      <td>2019-05-25 00:00:00</td>\n      <td>A002R051 59 ST 02-00-00</td>\n      <td>14.0</td>\n      <td>4.0</td>\n      <td>18.0</td>\n    </tr>\n  </tbody>\n</table>\n<p>3006307 rows × 9 columns</p>\n</div>"
     },
     "metadata": {},
     "execution_count": 132
    }
   ],
   "source": [
    "#drop record index column. no longer applies after re-indexing\n",
    "df.drop('record_index', axis=1)"
   ]
  },
  {
   "cell_type": "code",
   "execution_count": 133,
   "metadata": {},
   "outputs": [
    {
     "output_type": "execute_result",
     "data": {
      "text/plain": [
       "                       unique_turnstile_id           timestamp  total_traffic\n",
       "1309875  N324R018 JKSN HT-ROOSVLT 00-00-01 2019-08-21 08:00:00        13979.0\n",
       "1318309  N324R018 JKSN HT-ROOSVLT 00-06-02 2019-08-21 04:00:00        12872.0\n",
       "1304576  N323R018 JKSN HT-ROOSVLT 01-00-00 2019-08-21 16:00:00        11881.0\n",
       "1315283  N324R018 JKSN HT-ROOSVLT 00-03-03 2019-08-21 00:00:00        11819.0\n",
       "2342899            R243R049 51 ST 00-03-03 2019-07-27 16:00:00        11619.0\n",
       "...                                    ...                 ...            ...\n",
       "2257580            R227R131 23 ST 00-05-00 2019-06-12 05:00:00            1.0\n",
       "2257582            R227R131 23 ST 00-05-00 2019-06-13 17:00:00            1.0\n",
       "861130    N067R012 34 ST-PENN STA 00-03-05 2019-08-26 11:30:07            1.0\n",
       "2257584            R227R131 23 ST 00-05-00 2019-06-15 13:00:00            1.0\n",
       "1312433  N324R018 JKSN HT-ROOSVLT 00-02-00 2019-08-03 04:00:00            1.0\n",
       "\n",
       "[3006307 rows x 3 columns]"
      ],
      "text/html": "<div>\n<style scoped>\n    .dataframe tbody tr th:only-of-type {\n        vertical-align: middle;\n    }\n\n    .dataframe tbody tr th {\n        vertical-align: top;\n    }\n\n    .dataframe thead th {\n        text-align: right;\n    }\n</style>\n<table border=\"1\" class=\"dataframe\">\n  <thead>\n    <tr style=\"text-align: right;\">\n      <th></th>\n      <th>unique_turnstile_id</th>\n      <th>timestamp</th>\n      <th>total_traffic</th>\n    </tr>\n  </thead>\n  <tbody>\n    <tr>\n      <th>1309875</th>\n      <td>N324R018 JKSN HT-ROOSVLT 00-00-01</td>\n      <td>2019-08-21 08:00:00</td>\n      <td>13979.0</td>\n    </tr>\n    <tr>\n      <th>1318309</th>\n      <td>N324R018 JKSN HT-ROOSVLT 00-06-02</td>\n      <td>2019-08-21 04:00:00</td>\n      <td>12872.0</td>\n    </tr>\n    <tr>\n      <th>1304576</th>\n      <td>N323R018 JKSN HT-ROOSVLT 01-00-00</td>\n      <td>2019-08-21 16:00:00</td>\n      <td>11881.0</td>\n    </tr>\n    <tr>\n      <th>1315283</th>\n      <td>N324R018 JKSN HT-ROOSVLT 00-03-03</td>\n      <td>2019-08-21 00:00:00</td>\n      <td>11819.0</td>\n    </tr>\n    <tr>\n      <th>2342899</th>\n      <td>R243R049 51 ST 00-03-03</td>\n      <td>2019-07-27 16:00:00</td>\n      <td>11619.0</td>\n    </tr>\n    <tr>\n      <th>...</th>\n      <td>...</td>\n      <td>...</td>\n      <td>...</td>\n    </tr>\n    <tr>\n      <th>2257580</th>\n      <td>R227R131 23 ST 00-05-00</td>\n      <td>2019-06-12 05:00:00</td>\n      <td>1.0</td>\n    </tr>\n    <tr>\n      <th>2257582</th>\n      <td>R227R131 23 ST 00-05-00</td>\n      <td>2019-06-13 17:00:00</td>\n      <td>1.0</td>\n    </tr>\n    <tr>\n      <th>861130</th>\n      <td>N067R012 34 ST-PENN STA 00-03-05</td>\n      <td>2019-08-26 11:30:07</td>\n      <td>1.0</td>\n    </tr>\n    <tr>\n      <th>2257584</th>\n      <td>R227R131 23 ST 00-05-00</td>\n      <td>2019-06-15 13:00:00</td>\n      <td>1.0</td>\n    </tr>\n    <tr>\n      <th>1312433</th>\n      <td>N324R018 JKSN HT-ROOSVLT 00-02-00</td>\n      <td>2019-08-03 04:00:00</td>\n      <td>1.0</td>\n    </tr>\n  </tbody>\n</table>\n<p>3006307 rows × 3 columns</p>\n</div>"
     },
     "metadata": {},
     "execution_count": 133
    }
   ],
   "source": [
    "df_by_station = df.groupby([\"unique_turnstile_id\", \"timestamp\"]).agg({'total_traffic': 'sum'}).reset_index().sort_values(by=\"total_traffic\", ascending=False)\n",
    "df_by_station"
   ]
  },
  {
   "cell_type": "code",
   "execution_count": null,
   "metadata": {},
   "outputs": [],
   "source": []
  }
 ],
 "metadata": {
  "kernelspec": {
   "name": "Python 3.8.5 64-bit",
   "display_name": "Python 3.8.5 64-bit",
   "metadata": {
    "interpreter": {
     "hash": "1ee38ef4a5a9feb55287fd749643f13d043cb0a7addaab2a9c224cbe137c0062"
    }
   }
  },
  "language_info": {
   "codemirror_mode": {
    "name": "ipython",
    "version": 3
   },
   "file_extension": ".py",
   "mimetype": "text/x-python",
   "name": "python",
   "nbconvert_exporter": "python",
   "pygments_lexer": "ipython3",
   "version": "3.8.5-final"
  }
 },
 "nbformat": 4,
 "nbformat_minor": 4
}